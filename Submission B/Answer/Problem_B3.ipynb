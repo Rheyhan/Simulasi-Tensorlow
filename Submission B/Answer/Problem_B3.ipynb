{
 "cells": [
  {
   "cell_type": "code",
   "execution_count": null,
   "metadata": {},
   "outputs": [],
   "source": [
    "# ========================================================================================\n",
    "# PROBLEM B3\n",
    "#\n",
    "# Build a CNN based classifier for Rock-Paper-Scissors dataset.\n",
    "# Your input layer should accept 150x150 with 3 bytes color as the input shape.\n",
    "# This is unlabeled data, use ImageDataGenerator to automatically label it.\n",
    "# Don't use lambda layers in your model.\n",
    "#\n",
    "# The dataset used in this problem is created by Laurence Moroney (laurencemoroney.com).\n",
    "#\n",
    "# Desired accuracy AND validation_accuracy > 83%\n",
    "# ========================================================================================"
   ]
  },
  {
   "cell_type": "code",
   "execution_count": 2,
   "metadata": {},
   "outputs": [
    {
     "name": "stderr",
     "output_type": "stream",
     "text": [
      "2024-02-16 21:58:34.137298: I tensorflow/core/platform/cpu_feature_guard.cc:182] This TensorFlow binary is optimized to use available CPU instructions in performance-critical operations.\n",
      "To enable the following instructions: AVX2 FMA, in other operations, rebuild TensorFlow with the appropriate compiler flags.\n",
      "2024-02-16 21:58:35.309003: W tensorflow/compiler/tf2tensorrt/utils/py_utils.cc:38] TF-TRT Warning: Could not find TensorRT\n"
     ]
    }
   ],
   "source": [
    "import urllib.request\n",
    "import zipfile\n",
    "import tensorflow as tf\n",
    "import os\n",
    "from keras_preprocessing.image import ImageDataGenerator"
   ]
  },
  {
   "cell_type": "code",
   "execution_count": 4,
   "metadata": {},
   "outputs": [],
   "source": [
    "#const\n",
    "BATCH_SIZE = 32\n",
    "IMG_HEIGHT = 150\n",
    "IMG_WIDTH = 150\n",
    "AUTOTUNE =tf.data.AUTOTUNE"
   ]
  },
  {
   "cell_type": "code",
   "execution_count": 3,
   "metadata": {},
   "outputs": [],
   "source": [
    "# Download ds\n",
    "data_url = 'https://github.com/dicodingacademy/assets/releases/download/release-rps/rps.zip'\n",
    "urllib.request.urlretrieve(data_url, 'rps.zip')\n",
    "local_file = 'rps.zip'\n",
    "zip_ref = zipfile.ZipFile(local_file, 'r')\n",
    "zip_ref.extractall('data/')\n",
    "zip_ref.close()"
   ]
  },
  {
   "cell_type": "code",
   "execution_count": 7,
   "metadata": {},
   "outputs": [
    {
     "name": "stdout",
     "output_type": "stream",
     "text": [
      "Found 2016 images belonging to 3 classes.\n",
      "Found 504 images belonging to 3 classes.\n"
     ]
    }
   ],
   "source": [
    "TRAINING_DIR = \"data/rps/\"\n",
    "\n",
    "training_datagen = ImageDataGenerator(rescale=1./255, validation_split=0.2)\n",
    "\n",
    "train_gen=training_datagen.flow_from_directory(TRAINING_DIR, target_size=(IMG_HEIGHT, IMG_WIDTH), class_mode=\"categorical\", \n",
    "                                               batch_size=BATCH_SIZE, subset=\"training\")\n",
    "\n",
    "val_gen=training_datagen.flow_from_directory(TRAINING_DIR, target_size=(IMG_HEIGHT, IMG_WIDTH), class_mode=\"categorical\", \n",
    "                                               batch_size=BATCH_SIZE, subset=\"validation\")"
   ]
  },
  {
   "cell_type": "code",
   "execution_count": 27,
   "metadata": {},
   "outputs": [],
   "source": [
    "def get_model():\n",
    "    model=tf.keras.models.Sequential([\n",
    "                \n",
    "        ##Conv layer 1\n",
    "        tf.keras.layers.Conv2D(32, kernel_size=3, input_shape=train_gen.image_shape),\n",
    "        tf.keras.layers.MaxPooling2D(pool_size=(2,2)),\n",
    "        \n",
    "        ##Conv layer 2\n",
    "        tf.keras.layers.Conv2D(64, kernel_size=3),\n",
    "        tf.keras.layers.MaxPooling2D(pool_size=(2,2)),\n",
    "        \n",
    "        ##Conv layer 3\n",
    "        tf.keras.layers.Conv2D(128, kernel_size=3),\n",
    "        tf.keras.layers.MaxPooling2D(pool_size=(2,2)),\n",
    "        \n",
    "        ##flatten and normal dense\n",
    "        tf.keras.layers.Dropout(0.25),\n",
    "        tf.keras.layers.Flatten(),\n",
    "        tf.keras.layers.Dense(128, activation='relu'),\n",
    "        tf.keras.layers.Dropout(0.2),\n",
    "        tf.keras.layers.Dense(256, activation='relu'),\n",
    "        tf.keras.layers.Dropout(0.5),\n",
    "        tf.keras.layers.Dense(train_gen.num_classes, activation='softmax')\n",
    "    ])\n",
    "    model.compile(optimizer=\"adam\", loss=tf.keras.losses.categorical_crossentropy, metrics=\"accuracy\")\n",
    "    \n",
    "    return model"
   ]
  },
  {
   "cell_type": "code",
   "execution_count": 28,
   "metadata": {},
   "outputs": [],
   "source": [
    "class thecallback(tf.keras.callbacks.Callback):\n",
    "    def __init__(self):\n",
    "        super(thecallback, self).__init__()\n",
    "        \n",
    "    def on_epoch_end(self, epoch, logs=None):\n",
    "        logtrain, logval = logs[\"accuracy\"], logs[\"val_accuracy\"]\n",
    "        if logtrain > 0.83 and logval> 0.83:\n",
    "            self.model.stop_training = True"
   ]
  },
  {
   "cell_type": "code",
   "execution_count": 29,
   "metadata": {},
   "outputs": [
    {
     "name": "stdout",
     "output_type": "stream",
     "text": [
      "Epoch 1/100\n"
     ]
    },
    {
     "name": "stderr",
     "output_type": "stream",
     "text": [
      "2024-02-16 22:13:20.246530: E tensorflow/core/grappler/optimizers/meta_optimizer.cc:954] layout failed: INVALID_ARGUMENT: Size of values 0 does not match size of permutation 4 @ fanin shape insequential_6/dropout_18/dropout/SelectV2-2-TransposeNHWCToNCHW-LayoutOptimizer\n"
     ]
    },
    {
     "name": "stdout",
     "output_type": "stream",
     "text": [
      "63/63 [==============================] - 11s 136ms/step - loss: 1.2575 - accuracy: 0.4082 - val_loss: 0.8490 - val_accuracy: 0.6587\n",
      "Epoch 2/100\n",
      "63/63 [==============================] - 7s 112ms/step - loss: 0.3821 - accuracy: 0.8457 - val_loss: 0.3016 - val_accuracy: 0.8512\n"
     ]
    },
    {
     "data": {
      "text/plain": [
       "<keras.src.callbacks.History at 0x7febdf608880>"
      ]
     },
     "execution_count": 29,
     "metadata": {},
     "output_type": "execute_result"
    }
   ],
   "source": [
    "model=get_model()\n",
    "model.fit(train_gen, validation_data=val_gen, epochs=100,callbacks=thecallback())"
   ]
  },
  {
   "cell_type": "markdown",
   "metadata": {},
   "source": [
    "# Answer!"
   ]
  },
  {
   "cell_type": "code",
   "execution_count": 30,
   "metadata": {},
   "outputs": [
    {
     "name": "stdout",
     "output_type": "stream",
     "text": [
      "Found 2016 images belonging to 3 classes.\n",
      "Found 504 images belonging to 3 classes.\n",
      "Epoch 1/100\n"
     ]
    },
    {
     "name": "stderr",
     "output_type": "stream",
     "text": [
      "2024-02-16 22:16:37.782504: E tensorflow/core/grappler/optimizers/meta_optimizer.cc:954] layout failed: INVALID_ARGUMENT: Size of values 0 does not match size of permutation 4 @ fanin shape insequential_7/dropout_21/dropout/SelectV2-2-TransposeNHWCToNCHW-LayoutOptimizer\n"
     ]
    },
    {
     "name": "stdout",
     "output_type": "stream",
     "text": [
      "63/63 [==============================] - 13s 153ms/step - loss: 0.9657 - accuracy: 0.6275 - val_loss: 0.5726 - val_accuracy: 0.7579\n",
      "Epoch 2/100\n",
      "63/63 [==============================] - 11s 176ms/step - loss: 0.0979 - accuracy: 0.9707 - val_loss: 0.8696 - val_accuracy: 0.6825\n",
      "Epoch 3/100\n",
      "63/63 [==============================] - 11s 166ms/step - loss: 0.0153 - accuracy: 0.9965 - val_loss: 1.4949 - val_accuracy: 0.6528\n",
      "Epoch 4/100\n",
      "63/63 [==============================] - 10s 161ms/step - loss: 0.0042 - accuracy: 0.9995 - val_loss: 1.7075 - val_accuracy: 0.6647\n",
      "Epoch 5/100\n",
      "63/63 [==============================] - 9s 141ms/step - loss: 0.0021 - accuracy: 1.0000 - val_loss: 1.7970 - val_accuracy: 0.6627\n",
      "Epoch 6/100\n",
      "63/63 [==============================] - 8s 133ms/step - loss: 0.0014 - accuracy: 1.0000 - val_loss: 1.5114 - val_accuracy: 0.6706\n",
      "Epoch 7/100\n",
      "63/63 [==============================] - 9s 136ms/step - loss: 0.0074 - accuracy: 0.9970 - val_loss: 1.7846 - val_accuracy: 0.6528\n",
      "Epoch 8/100\n",
      "63/63 [==============================] - 8s 128ms/step - loss: 0.5537 - accuracy: 0.9638 - val_loss: 13.9886 - val_accuracy: 0.3333\n",
      "Epoch 9/100\n",
      "63/63 [==============================] - 9s 138ms/step - loss: 1.7819 - accuracy: 0.7411 - val_loss: 0.1188 - val_accuracy: 0.9663\n",
      "Epoch 10/100\n",
      "63/63 [==============================] - 9s 149ms/step - loss: 0.1291 - accuracy: 0.9578 - val_loss: 0.7441 - val_accuracy: 0.7143\n",
      "Epoch 11/100\n",
      "63/63 [==============================] - 8s 124ms/step - loss: 0.0286 - accuracy: 0.9911 - val_loss: 0.2993 - val_accuracy: 0.9306\n"
     ]
    },
    {
     "name": "stderr",
     "output_type": "stream",
     "text": [
      "/root/miniconda3/envs/conda3.9/lib/python3.9/site-packages/keras/src/engine/training.py:3000: UserWarning: You are saving your model as an HDF5 file via `model.save()`. This file format is considered legacy. We recommend using instead the native Keras format, e.g. `model.save('my_model.keras')`.\n",
      "  saving_api.save_model(\n"
     ]
    }
   ],
   "source": [
    "\n",
    "def solution_B3():\n",
    "    data_url = 'https://github.com/dicodingacademy/assets/releases/download/release-rps/rps.zip'\n",
    "    urllib.request.urlretrieve(data_url, 'rps.zip')\n",
    "    local_file = 'rps.zip'\n",
    "    zip_ref = zipfile.ZipFile(local_file, 'r')\n",
    "    zip_ref.extractall('data/')\n",
    "    zip_ref.close()\n",
    "    \n",
    "    #const\n",
    "    BATCH_SIZE = 32\n",
    "    IMG_HEIGHT = 150\n",
    "    IMG_WIDTH = 150\n",
    "    AUTOTUNE =tf.data.AUTOTUNE\n",
    "    \n",
    "    TRAINING_DIR = \"data/rps/\"\n",
    "\n",
    "    training_datagen = ImageDataGenerator(rescale=1./255, validation_split=0.2)\n",
    "\n",
    "    train_gen=training_datagen.flow_from_directory(TRAINING_DIR, target_size=(IMG_HEIGHT, IMG_WIDTH), class_mode=\"categorical\", \n",
    "                                                batch_size=BATCH_SIZE, subset=\"training\")\n",
    "\n",
    "    val_gen=training_datagen.flow_from_directory(TRAINING_DIR, target_size=(IMG_HEIGHT, IMG_WIDTH), class_mode=\"categorical\", \n",
    "                                                batch_size=BATCH_SIZE, subset=\"validation\")\n",
    "\n",
    "    def get_model():\n",
    "        model=tf.keras.models.Sequential([\n",
    "                    \n",
    "            ##Conv layer 1\n",
    "            tf.keras.layers.Conv2D(32, kernel_size=3, input_shape=train_gen.image_shape),\n",
    "            tf.keras.layers.MaxPooling2D(pool_size=(2,2)),\n",
    "            \n",
    "            ##Conv layer 2\n",
    "            tf.keras.layers.Conv2D(64, kernel_size=3),\n",
    "            tf.keras.layers.MaxPooling2D(pool_size=(2,2)),\n",
    "            \n",
    "            ##Conv layer 3\n",
    "            tf.keras.layers.Conv2D(128, kernel_size=3),\n",
    "            tf.keras.layers.MaxPooling2D(pool_size=(2,2)),\n",
    "            \n",
    "            ##flatten and normal dense\n",
    "            tf.keras.layers.Dropout(0.25),\n",
    "            tf.keras.layers.Flatten(),\n",
    "            tf.keras.layers.Dense(128, activation='relu'),\n",
    "            tf.keras.layers.Dropout(0.2),\n",
    "            tf.keras.layers.Dense(256, activation='relu'),\n",
    "            tf.keras.layers.Dropout(0.5),\n",
    "            tf.keras.layers.Dense(3, activation='softmax')\n",
    "        ])\n",
    "        model.compile(optimizer=\"adam\", loss=tf.keras.losses.categorical_crossentropy, metrics=\"accuracy\")\n",
    "        \n",
    "        return model\n",
    "\n",
    "    class thecallback(tf.keras.callbacks.Callback):\n",
    "        def __init__(self):\n",
    "            super(thecallback, self).__init__()\n",
    "            \n",
    "        def on_epoch_end(self, epoch, logs=None):\n",
    "            logtrain, logval = logs[\"accuracy\"], logs[\"val_accuracy\"]\n",
    "            if logtrain > 0.83 and logval> 0.83:\n",
    "                self.model.stop_training = True\n",
    "\n",
    "    model=get_model()\n",
    "    model.fit(train_gen, validation_data=val_gen, epochs=100,callbacks=thecallback())\n",
    "    \n",
    "    return model\n",
    "\n",
    "\n",
    "# The code below is to save your model as a .h5 file.\n",
    "# It will be saved automatically in your Submission folder.\n",
    "if __name__ == '__main__':\n",
    "    # DO NOT CHANGE THIS CODE\n",
    "    model=solution_B3()\n",
    "    model.save(\"Model/model_B3.h5\")\n"
   ]
  }
 ],
 "metadata": {
  "kernelspec": {
   "display_name": "conda3.9",
   "language": "python",
   "name": "python3"
  },
  "language_info": {
   "codemirror_mode": {
    "name": "ipython",
    "version": 3
   },
   "file_extension": ".py",
   "mimetype": "text/x-python",
   "name": "python",
   "nbconvert_exporter": "python",
   "pygments_lexer": "ipython3",
   "version": "3.9.18"
  }
 },
 "nbformat": 4,
 "nbformat_minor": 2
}
