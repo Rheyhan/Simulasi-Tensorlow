{
 "cells": [
  {
   "cell_type": "code",
   "execution_count": 1,
   "metadata": {},
   "outputs": [],
   "source": [
    "# ============================================================================================\n",
    "# PROBLEM B5\n",
    "#\n",
    "# Build and train a neural network model using the Daily Max Temperature.csv dataset.\n",
    "# Use MAE as the metrics of your neural network model.\n",
    "# We provided code for normalizing the data. Please do not change the code.\n",
    "# Do not use lambda layers in your model.\n",
    "#\n",
    "# The dataset used in this problem is downloaded from https://github.com/jbrownlee/Datasets\n",
    "#\n",
    "# Desired MAE < 0.2 on the normalized dataset.\n",
    "# ============================================================================================"
   ]
  },
  {
   "cell_type": "code",
   "execution_count": 4,
   "metadata": {},
   "outputs": [],
   "source": [
    "import tensorflow as tf\n",
    "import numpy as np\n",
    "import matplotlib.pyplot as plt\n",
    "import csv\n",
    "import urllib"
   ]
  },
  {
   "cell_type": "code",
   "execution_count": 5,
   "metadata": {},
   "outputs": [],
   "source": [
    "def windowed_dataset(series, window_size, batch_size, shuffle_buffer):\n",
    "    series = tf.expand_dims(series, axis=-1)\n",
    "    ds = tf.data.Dataset.from_tensor_slices(series)\n",
    "    ds = ds.window(window_size + 1, shift=1, drop_remainder=True)\n",
    "    ds = ds.flat_map(lambda w: w.batch(window_size + 1))\n",
    "    ds = ds.shuffle(shuffle_buffer)\n",
    "    ds = ds.map(lambda w: (w[:-1], w[1:]))\n",
    "    return ds.batch(batch_size).prefetch(1)"
   ]
  },
  {
   "cell_type": "code",
   "execution_count": 6,
   "metadata": {},
   "outputs": [
    {
     "data": {
      "text/plain": [
       "('daily-max-temperatures.csv', <http.client.HTTPMessage at 0x7f903fdb1df0>)"
      ]
     },
     "execution_count": 6,
     "metadata": {},
     "output_type": "execute_result"
    }
   ],
   "source": [
    "data_url = 'https://raw.githubusercontent.com/jbrownlee/Datasets/master/daily-max-temperatures.csv'\n",
    "urllib.request.urlretrieve(data_url, 'daily-max-temperatures.csv')"
   ]
  },
  {
   "cell_type": "code",
   "execution_count": 9,
   "metadata": {},
   "outputs": [],
   "source": [
    "time_step = []\n",
    "temps = []\n",
    "\n",
    "with open('daily-max-temperatures.csv') as csvfile:\n",
    "    reader = csv.reader(csvfile, delimiter=',')\n",
    "    next(reader)\n",
    "    step = 0\n",
    "    for row in reader:\n",
    "        temps.append(row[1])\n",
    "        time_step.append(step)\n",
    "        step=step + 1"
   ]
  },
  {
   "cell_type": "code",
   "execution_count": 12,
   "metadata": {},
   "outputs": [],
   "source": [
    "series=np.array(temps, dtype=float)\n",
    "\n",
    "# Normalization Function. DO NOT CHANGE THIS CODE\n",
    "min=np.min(series)\n",
    "max=np.max(series)\n",
    "series -= min\n",
    "series /= max\n",
    "time=np.array(time_step)"
   ]
  },
  {
   "cell_type": "code",
   "execution_count": 13,
   "metadata": {},
   "outputs": [],
   "source": [
    "# DO NOT CHANGE THIS CODE\n",
    "split_time=2500\n",
    "\n",
    "time_train = time[:split_time]\n",
    "x_train = series[:split_time]\n",
    "time_valid = time[split_time:]\n",
    "x_valid = series[split_time:]"
   ]
  },
  {
   "cell_type": "code",
   "execution_count": 17,
   "metadata": {},
   "outputs": [
    {
     "name": "stdout",
     "output_type": "stream",
     "text": [
      "<_PrefetchDataset element_spec=(TensorSpec(shape=(None, None, 1), dtype=tf.float64, name=None), TensorSpec(shape=(None, None, 1), dtype=tf.float64, name=None))>\n",
      "(2500,)\n"
     ]
    }
   ],
   "source": [
    "# DO NOT CHANGE THIS CODE\n",
    "window_size=64\n",
    "batch_size=256\n",
    "shuffle_buffer_size=1000\n",
    "\n",
    "train_set=windowed_dataset(x_train, window_size, batch_size, shuffle_buffer_size)\n",
    "print(train_set)\n",
    "print(x_train.shape)"
   ]
  },
  {
   "cell_type": "code",
   "execution_count": 22,
   "metadata": {},
   "outputs": [],
   "source": [
    "class thecustomcallbacks(tf.keras.callbacks.Callback):\n",
    "    def __init__(self):\n",
    "        super(thecustomcallbacks, self).__init__()\n",
    "    \n",
    "    def on_epoch_end(self, epoch, logs=None):\n",
    "        loggedtrain = logs[\"mae\"]\n",
    "        if loggedtrain < 0.2:\n",
    "            self.model.stop_training = True"
   ]
  },
  {
   "cell_type": "code",
   "execution_count": 23,
   "metadata": {},
   "outputs": [],
   "source": [
    "def get_model():\n",
    "    model=tf.keras.Sequential([\n",
    "        tf.keras.layers.LSTM(128, return_sequences=True, input_shape=(None, 1)),\n",
    "        tf.keras.layers.LSTM(64),\n",
    "        tf.keras.layers.Dropout(0.2),\n",
    "        tf.keras.layers.Dense(1, \"relu\")        #Regression\n",
    "    ])\n",
    "    model.compile(optimizer=tf.keras.optimizers.Adam(), loss=tf.keras.losses.MSE, metrics = \"mae\")\n",
    "    \n",
    "    return model"
   ]
  },
  {
   "cell_type": "code",
   "execution_count": 26,
   "metadata": {},
   "outputs": [
    {
     "name": "stdout",
     "output_type": "stream",
     "text": [
      "Epoch 1/100\n",
      "10/10 [==============================] - 4s 51ms/step - loss: 0.0583 - mae: 0.1961\n"
     ]
    },
    {
     "name": "stderr",
     "output_type": "stream",
     "text": [
      "2024-02-16 23:25:24.815833: I tensorflow/core/framework/local_rendezvous.cc:405] Local rendezvous recv item cancelled. Key hash: 272346020111379130\n",
      "2024-02-16 23:25:24.815913: I tensorflow/core/framework/local_rendezvous.cc:405] Local rendezvous recv item cancelled. Key hash: 9801724871330745010\n"
     ]
    },
    {
     "data": {
      "text/plain": [
       "<keras.src.callbacks.History at 0x7f8f902b3be0>"
      ]
     },
     "execution_count": 26,
     "metadata": {},
     "output_type": "execute_result"
    }
   ],
   "source": [
    "model=get_model()\n",
    "model.fit(train_set, epochs=100, callbacks=thecustomcallbacks())"
   ]
  },
  {
   "cell_type": "code",
   "execution_count": 27,
   "metadata": {},
   "outputs": [
    {
     "name": "stdout",
     "output_type": "stream",
     "text": [
      "<_PrefetchDataset element_spec=(TensorSpec(shape=(None, None, 1), dtype=tf.float64, name=None), TensorSpec(shape=(None, None, 1), dtype=tf.float64, name=None))>\n",
      "(2500,)\n",
      "Epoch 1/100\n",
      "10/10 [==============================] - 4s 58ms/step - loss: 0.0323 - mae: 0.1389\n"
     ]
    },
    {
     "name": "stderr",
     "output_type": "stream",
     "text": [
      "2024-02-16 23:27:47.029373: I tensorflow/core/framework/local_rendezvous.cc:405] Local rendezvous recv item cancelled. Key hash: 272346020111379130\n",
      "/root/miniconda3/envs/conda3.9/lib/python3.9/site-packages/keras/src/engine/training.py:3000: UserWarning: You are saving your model as an HDF5 file via `model.save()`. This file format is considered legacy. We recommend using instead the native Keras format, e.g. `model.save('my_model.keras')`.\n",
      "  saving_api.save_model(\n"
     ]
    }
   ],
   "source": [
    "# ============================================================================================\n",
    "# PROBLEM B5\n",
    "#\n",
    "# Build and train a neural network model using the Daily Max Temperature.csv dataset.\n",
    "# Use MAE as the metrics of your neural network model.\n",
    "# We provided code for normalizing the data. Please do not change the code.\n",
    "# Do not use lambda layers in your model.\n",
    "#\n",
    "# The dataset used in this problem is downloaded from https://github.com/jbrownlee/Datasets\n",
    "#\n",
    "# Desired MAE < 0.2 on the normalized dataset.\n",
    "# ============================================================================================\n",
    "\n",
    "import tensorflow as tf\n",
    "import numpy as np\n",
    "import matplotlib.pyplot as plt\n",
    "import csv\n",
    "import urllib\n",
    "\n",
    "\n",
    "def windowed_dataset(series, window_size, batch_size, shuffle_buffer):\n",
    "    series = tf.expand_dims(series, axis=-1)\n",
    "    ds = tf.data.Dataset.from_tensor_slices(series)\n",
    "    ds = ds.window(window_size + 1, shift=1, drop_remainder=True)\n",
    "    ds = ds.flat_map(lambda w: w.batch(window_size + 1))\n",
    "    ds = ds.shuffle(shuffle_buffer)\n",
    "    ds = ds.map(lambda w: (w[:-1], w[1:]))\n",
    "    return ds.batch(batch_size).prefetch(1)\n",
    "\n",
    "\n",
    "def solution_B5():\n",
    "    data_url = 'https://raw.githubusercontent.com/jbrownlee/Datasets/master/daily-max-temperatures.csv'\n",
    "    urllib.request.urlretrieve(data_url, 'daily-max-temperatures.csv')\n",
    "\n",
    "    time_step = []\n",
    "    temps = []\n",
    "    with open('daily-max-temperatures.csv') as csvfile:\n",
    "        reader = csv.reader(csvfile, delimiter=',')\n",
    "        next(reader)\n",
    "        step = 0\n",
    "        for row in reader:\n",
    "            temps.append(row[1])\n",
    "            time_step.append(step)\n",
    "            step=step + 1\n",
    "\n",
    "    series= np.array(temps, dtype=float)\n",
    "\n",
    "    # Normalization Function. DO NOT CHANGE THIS CODE\n",
    "    min=np.min(series)\n",
    "    max=np.max(series)\n",
    "    series -= min\n",
    "    series /= max\n",
    "    time=np.array(time_step)\n",
    "    \n",
    "    #train_test_split\n",
    "    split_time=2500\n",
    "    time_train = time[:split_time]\n",
    "    x_train = series[:split_time]\n",
    "    time_valid = time[split_time:]\n",
    "    x_valid = series[split_time:]\n",
    "    \n",
    "    #const\n",
    "    window_size=64\n",
    "    batch_size=256\n",
    "    shuffle_buffer_size=1000\n",
    "\n",
    "    train_set=windowed_dataset(x_train, window_size, batch_size, shuffle_buffer_size)\n",
    "    print(train_set)\n",
    "    print(x_train.shape)\n",
    "\n",
    "    class thecustomcallbacks(tf.keras.callbacks.Callback):\n",
    "        def __init__(self):\n",
    "            super(thecustomcallbacks, self).__init__()\n",
    "        \n",
    "        def on_epoch_end(self, epoch, logs=None):\n",
    "            loggedtrain = logs[\"mae\"]\n",
    "            if loggedtrain < 0.2:\n",
    "                self.model.stop_training = True\n",
    "\n",
    "    def get_model():\n",
    "        model=tf.keras.Sequential([\n",
    "            tf.keras.layers.LSTM(128, return_sequences=True, input_shape=(None, 1)),\n",
    "            tf.keras.layers.LSTM(64),\n",
    "            tf.keras.layers.Dropout(0.2),\n",
    "            tf.keras.layers.Dense(1, \"relu\")\n",
    "        ])\n",
    "        model.compile(optimizer=tf.keras.optimizers.Adam(), loss=tf.keras.losses.MSE, metrics = \"mae\")\n",
    "        \n",
    "        return model\n",
    "\n",
    "    model=get_model()\n",
    "    model.fit(train_set, epochs=100, callbacks=thecustomcallbacks())\n",
    "    \n",
    "    return model\n",
    "\n",
    "\n",
    "# The code below is to save your model as a .h5 file.\n",
    "# It will be saved automatically in your Submission folder.\n",
    "if __name__ == '__main__':\n",
    "    # DO NOT CHANGE THIS CODE\n",
    "    model=solution_B5()\n",
    "    model.save(\"Model/model_B5.h5\")\n"
   ]
  }
 ],
 "metadata": {
  "kernelspec": {
   "display_name": "conda3.9",
   "language": "python",
   "name": "python3"
  },
  "language_info": {
   "codemirror_mode": {
    "name": "ipython",
    "version": 3
   },
   "file_extension": ".py",
   "mimetype": "text/x-python",
   "name": "python",
   "nbconvert_exporter": "python",
   "pygments_lexer": "ipython3",
   "version": "3.9.18"
  }
 },
 "nbformat": 4,
 "nbformat_minor": 2
}
