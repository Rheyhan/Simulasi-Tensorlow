{
 "cells": [
  {
   "cell_type": "code",
   "execution_count": 1,
   "metadata": {},
   "outputs": [],
   "source": [
    "# =============================================================================\n",
    "# PROBLEM B2\n",
    "#\n",
    "# Build a classifier for the Fashion MNIST dataset.\n",
    "# The test will expect it to classify 10 classes.\n",
    "# The input shape should be 28x28 monochrome. Do not resize the data.\n",
    "# Your input layer should accept (28, 28) as the input shape.\n",
    "#\n",
    "# Don't use lambda layers in your model.\n",
    "#\n",
    "# Desired accuracy AND validation_accuracy > 83%\n",
    "# ============================================================================="
   ]
  },
  {
   "cell_type": "code",
   "execution_count": 1,
   "metadata": {},
   "outputs": [
    {
     "name": "stderr",
     "output_type": "stream",
     "text": [
      "2024-02-16 21:24:15.890081: I tensorflow/core/platform/cpu_feature_guard.cc:182] This TensorFlow binary is optimized to use available CPU instructions in performance-critical operations.\n",
      "To enable the following instructions: AVX2 FMA, in other operations, rebuild TensorFlow with the appropriate compiler flags.\n",
      "2024-02-16 21:24:17.564209: W tensorflow/compiler/tf2tensorrt/utils/py_utils.cc:38] TF-TRT Warning: Could not find TensorRT\n"
     ]
    }
   ],
   "source": [
    "import tensorflow as tf"
   ]
  },
  {
   "cell_type": "code",
   "execution_count": 2,
   "metadata": {},
   "outputs": [],
   "source": [
    "#const\n",
    "AUTOTUNE = tf.data.AUTOTUNE\n",
    "IMG_HEIGHT = 28\n",
    "IMG_WIDTH = 28\n",
    "BATCH_SIZE = 32"
   ]
  },
  {
   "cell_type": "code",
   "execution_count": 3,
   "metadata": {},
   "outputs": [
    {
     "name": "stderr",
     "output_type": "stream",
     "text": [
      "2024-02-16 21:24:27.001322: I tensorflow/compiler/xla/stream_executor/cuda/cuda_gpu_executor.cc:981] could not open file to read NUMA node: /sys/bus/pci/devices/0000:01:00.0/numa_node\n",
      "Your kernel may have been built without NUMA support.\n",
      "2024-02-16 21:24:27.223504: I tensorflow/compiler/xla/stream_executor/cuda/cuda_gpu_executor.cc:981] could not open file to read NUMA node: /sys/bus/pci/devices/0000:01:00.0/numa_node\n",
      "Your kernel may have been built without NUMA support.\n",
      "2024-02-16 21:24:27.223563: I tensorflow/compiler/xla/stream_executor/cuda/cuda_gpu_executor.cc:981] could not open file to read NUMA node: /sys/bus/pci/devices/0000:01:00.0/numa_node\n",
      "Your kernel may have been built without NUMA support.\n",
      "2024-02-16 21:24:27.226842: I tensorflow/compiler/xla/stream_executor/cuda/cuda_gpu_executor.cc:981] could not open file to read NUMA node: /sys/bus/pci/devices/0000:01:00.0/numa_node\n",
      "Your kernel may have been built without NUMA support.\n",
      "2024-02-16 21:24:27.227024: I tensorflow/compiler/xla/stream_executor/cuda/cuda_gpu_executor.cc:981] could not open file to read NUMA node: /sys/bus/pci/devices/0000:01:00.0/numa_node\n",
      "Your kernel may have been built without NUMA support.\n",
      "2024-02-16 21:24:27.227068: I tensorflow/compiler/xla/stream_executor/cuda/cuda_gpu_executor.cc:981] could not open file to read NUMA node: /sys/bus/pci/devices/0000:01:00.0/numa_node\n",
      "Your kernel may have been built without NUMA support.\n",
      "2024-02-16 21:24:27.755481: I tensorflow/compiler/xla/stream_executor/cuda/cuda_gpu_executor.cc:981] could not open file to read NUMA node: /sys/bus/pci/devices/0000:01:00.0/numa_node\n",
      "Your kernel may have been built without NUMA support.\n",
      "2024-02-16 21:24:27.755615: I tensorflow/compiler/xla/stream_executor/cuda/cuda_gpu_executor.cc:981] could not open file to read NUMA node: /sys/bus/pci/devices/0000:01:00.0/numa_node\n",
      "Your kernel may have been built without NUMA support.\n",
      "2024-02-16 21:24:27.755629: I tensorflow/core/common_runtime/gpu/gpu_device.cc:1726] Could not identify NUMA node of platform GPU id 0, defaulting to 0.  Your kernel may not have been built with NUMA support.\n",
      "2024-02-16 21:24:27.755667: I tensorflow/compiler/xla/stream_executor/cuda/cuda_gpu_executor.cc:981] could not open file to read NUMA node: /sys/bus/pci/devices/0000:01:00.0/numa_node\n",
      "Your kernel may have been built without NUMA support.\n",
      "2024-02-16 21:24:27.755783: I tensorflow/core/common_runtime/gpu/gpu_device.cc:1639] Created device /job:localhost/replica:0/task:0/device:GPU:0 with 3600 MB memory:  -> device: 0, name: NVIDIA GeForce RTX 3060 Laptop GPU, pci bus id: 0000:01:00.0, compute capability: 8.6\n"
     ]
    }
   ],
   "source": [
    "fashion_mnist = tf.keras.datasets.fashion_mnist\n",
    "\n",
    "train_ds= tf.data.Dataset.from_tensor_slices(fashion_mnist.load_data()[0]).cache().batch(BATCH_SIZE).prefetch(AUTOTUNE)\n",
    "val_ds= tf.data.Dataset.from_tensor_slices(fashion_mnist.load_data()[1]).cache().batch(BATCH_SIZE).prefetch(AUTOTUNE)"
   ]
  },
  {
   "cell_type": "code",
   "execution_count": 32,
   "metadata": {},
   "outputs": [],
   "source": [
    "#rescale\n",
    "rescalelayer = tf.keras.Sequential([\n",
    "    tf.keras.layers.Rescaling(1./255)\n",
    "])\n",
    "\n",
    "# Augmentation not used\n",
    "augmentation = tf.keras.Sequential([\n",
    "    tf.keras.layers.RandomRotation(0.3),\n",
    "    tf.keras.layers.RandomFlip(),\n",
    "])"
   ]
  },
  {
   "cell_type": "code",
   "execution_count": 28,
   "metadata": {},
   "outputs": [],
   "source": [
    "class thecallback(tf.keras.callbacks.Callback):\n",
    "    def __init__(self):\n",
    "        super(thecallback, self).__init__()\n",
    "        \n",
    "    def on_epoch_end(self, epoch, logs=None):\n",
    "        loggedtrain, loggedval = logs[\"accuracy\"], logs[\"val_accuracy\"]\n",
    "        if loggedtrain > 0.83 and loggedval > 0.83:\n",
    "            self.model.stop_training = True"
   ]
  },
  {
   "cell_type": "code",
   "execution_count": 34,
   "metadata": {},
   "outputs": [],
   "source": [
    "def get_model():\n",
    "    model=tf.keras.models.Sequential([\n",
    "        \n",
    "        tf.keras.layers.InputLayer(input_shape=(IMG_HEIGHT, IMG_WIDTH, 1)),\n",
    "        \n",
    "        rescalelayer,\n",
    "        \n",
    "        ##Conv layer 1\n",
    "        tf.keras.layers.Conv2D(32, kernel_size=3),\n",
    "        tf.keras.layers.MaxPooling2D(pool_size=(2,2)),\n",
    "        \n",
    "        ##Conv layer 2\n",
    "        tf.keras.layers.Conv2D(64, kernel_size=3),\n",
    "        tf.keras.layers.MaxPooling2D(pool_size=(2,2)),\n",
    "        \n",
    "        ##Conv layer 3\n",
    "        tf.keras.layers.Conv2D(128, kernel_size=3),\n",
    "        tf.keras.layers.MaxPooling2D(pool_size=(2,2)),\n",
    "        \n",
    "        ##flatten and normal dense\n",
    "        tf.keras.layers.Dropout(0.25),\n",
    "        tf.keras.layers.Flatten(),\n",
    "        tf.keras.layers.Dense(128, activation='relu'),\n",
    "        tf.keras.layers.Dropout(0.2),\n",
    "        tf.keras.layers.Dense(256, activation='relu'),\n",
    "        tf.keras.layers.Dropout(0.1),\n",
    "        tf.keras.layers.Dense(10, activation='softmax')\n",
    "    ])\n",
    "    model.compile(optimizer=\"adam\", loss=tf.keras.losses.SparseCategoricalCrossentropy(from_logits=True), metrics=\"accuracy\")\n",
    "    \n",
    "    return model"
   ]
  },
  {
   "cell_type": "code",
   "execution_count": 35,
   "metadata": {},
   "outputs": [
    {
     "name": "stdout",
     "output_type": "stream",
     "text": [
      "Epoch 1/50\n"
     ]
    },
    {
     "name": "stderr",
     "output_type": "stream",
     "text": [
      "/root/miniconda3/envs/conda3.9/lib/python3.9/site-packages/keras/src/backend.py:5714: UserWarning: \"`sparse_categorical_crossentropy` received `from_logits=True`, but the `output` argument was produced by a Softmax activation and thus does not represent logits. Was this intended?\n",
      "  output, from_logits = _get_logits(\n",
      "2024-02-16 21:38:18.672138: E tensorflow/core/grappler/optimizers/meta_optimizer.cc:954] layout failed: INVALID_ARGUMENT: Size of values 0 does not match size of permutation 4 @ fanin shape insequential_18/dropout_18/dropout/SelectV2-2-TransposeNHWCToNCHW-LayoutOptimizer\n"
     ]
    },
    {
     "name": "stdout",
     "output_type": "stream",
     "text": [
      "1875/1875 [==============================] - 18s 9ms/step - loss: 0.6181 - accuracy: 0.7740 - val_loss: 0.4619 - val_accuracy: 0.8316\n",
      "Epoch 2/50\n",
      "1875/1875 [==============================] - 16s 8ms/step - loss: 0.4331 - accuracy: 0.8425 - val_loss: 0.3965 - val_accuracy: 0.8547\n"
     ]
    },
    {
     "data": {
      "text/plain": [
       "<keras.src.callbacks.History at 0x7f0edc537dc0>"
      ]
     },
     "execution_count": 35,
     "metadata": {},
     "output_type": "execute_result"
    }
   ],
   "source": [
    "model=get_model()\n",
    "model.fit(train_ds, validation_data=val_ds, epochs=50, callbacks=thecallback())"
   ]
  },
  {
   "cell_type": "markdown",
   "metadata": {},
   "source": [
    "# Answers!"
   ]
  },
  {
   "cell_type": "code",
   "execution_count": 36,
   "metadata": {},
   "outputs": [
    {
     "name": "stdout",
     "output_type": "stream",
     "text": [
      "Epoch 1/50\n"
     ]
    },
    {
     "name": "stderr",
     "output_type": "stream",
     "text": [
      "2024-02-16 21:40:46.854517: E tensorflow/core/grappler/optimizers/meta_optimizer.cc:954] layout failed: INVALID_ARGUMENT: Size of values 0 does not match size of permutation 4 @ fanin shape insequential_20/dropout_21/dropout/SelectV2-2-TransposeNHWCToNCHW-LayoutOptimizer\n"
     ]
    },
    {
     "name": "stdout",
     "output_type": "stream",
     "text": [
      "1875/1875 [==============================] - 21s 10ms/step - loss: 0.6064 - accuracy: 0.7771 - val_loss: 0.4482 - val_accuracy: 0.8346\n",
      "Epoch 2/50\n",
      "1875/1875 [==============================] - 18s 9ms/step - loss: 0.4260 - accuracy: 0.8451 - val_loss: 0.3948 - val_accuracy: 0.8562\n"
     ]
    },
    {
     "name": "stderr",
     "output_type": "stream",
     "text": [
      "/root/miniconda3/envs/conda3.9/lib/python3.9/site-packages/keras/src/engine/training.py:3000: UserWarning: You are saving your model as an HDF5 file via `model.save()`. This file format is considered legacy. We recommend using instead the native Keras format, e.g. `model.save('my_model.keras')`.\n",
      "  saving_api.save_model(\n"
     ]
    }
   ],
   "source": [
    "# =============================================================================\n",
    "# PROBLEM B2\n",
    "#\n",
    "# Build a classifier for the Fashion MNIST dataset.\n",
    "# The test will expect it to classify 10 classes.\n",
    "# The input shape should be 28x28 monochrome. Do not resize the data.\n",
    "# Your input layer should accept (28, 28) as the input shape.\n",
    "#\n",
    "# Don't use lambda layers in your model.\n",
    "#\n",
    "# Desired accuracy AND validation_accuracy > 83%\n",
    "# =============================================================================\n",
    "\n",
    "import tensorflow as tf\n",
    "\n",
    "\n",
    "def solution_B2():\n",
    "    fashion_mnist = tf.keras.datasets.fashion_mnist\n",
    "    \n",
    "    #const\n",
    "    AUTOTUNE = tf.data.AUTOTUNE\n",
    "    IMG_HEIGHT = 28\n",
    "    IMG_WIDTH = 28\n",
    "    BATCH_SIZE = 32\n",
    "\n",
    "    #data\n",
    "    train_ds= tf.data.Dataset.from_tensor_slices(fashion_mnist.load_data()[0]).cache().batch(BATCH_SIZE).prefetch(AUTOTUNE)\n",
    "    val_ds= tf.data.Dataset.from_tensor_slices(fashion_mnist.load_data()[1]).cache().batch(BATCH_SIZE).prefetch(AUTOTUNE)\n",
    "        \n",
    "    #rescale\n",
    "    rescalelayer = tf.keras.Sequential([\n",
    "        tf.keras.layers.Rescaling(1./255)\n",
    "    ])\n",
    "    \n",
    "    class thecallback(tf.keras.callbacks.Callback):\n",
    "        def __init__(self):\n",
    "            super(thecallback, self).__init__()\n",
    "            \n",
    "        def on_epoch_end(self, epoch, logs=None):\n",
    "            loggedtrain, loggedval = logs[\"accuracy\"], logs[\"val_accuracy\"]\n",
    "            if loggedtrain > 0.83 and loggedval > 0.83:\n",
    "                self.model.stop_training = True\n",
    "    \n",
    "    def get_model():\n",
    "        model=tf.keras.models.Sequential([\n",
    "            \n",
    "            tf.keras.layers.InputLayer(input_shape=(IMG_HEIGHT, IMG_WIDTH, 1)),\n",
    "            \n",
    "            rescalelayer,\n",
    "            \n",
    "            ##Conv layer 1\n",
    "            tf.keras.layers.Conv2D(32, kernel_size=3),\n",
    "            tf.keras.layers.MaxPooling2D(pool_size=(2,2)),\n",
    "            \n",
    "            ##Conv layer 2\n",
    "            tf.keras.layers.Conv2D(64, kernel_size=3),\n",
    "            tf.keras.layers.MaxPooling2D(pool_size=(2,2)),\n",
    "            \n",
    "            ##Conv layer 3\n",
    "            tf.keras.layers.Conv2D(128, kernel_size=3),\n",
    "            tf.keras.layers.MaxPooling2D(pool_size=(2,2)),\n",
    "            \n",
    "            ##flatten and normal dense\n",
    "            tf.keras.layers.Dropout(0.25),\n",
    "            tf.keras.layers.Flatten(),\n",
    "            tf.keras.layers.Dense(128, activation='relu'),\n",
    "            tf.keras.layers.Dropout(0.2),\n",
    "            tf.keras.layers.Dense(256, activation='relu'),\n",
    "            tf.keras.layers.Dropout(0.1),\n",
    "            tf.keras.layers.Dense(10, activation='softmax')\n",
    "        ])\n",
    "        model.compile(optimizer=\"adam\", loss=tf.keras.losses.SparseCategoricalCrossentropy(from_logits=True), metrics=\"accuracy\")\n",
    "        \n",
    "        return model\n",
    "    \n",
    "    model=get_model()\n",
    "    model.fit(train_ds, validation_data=val_ds, epochs=50, callbacks=thecallback())\n",
    "    \n",
    "    return model\n",
    "\n",
    "\n",
    "# The code below is to save your model as a .h5 file.\n",
    "# It will be saved automatically in your Submission folder.\n",
    "if __name__ == '__main__':\n",
    "    # DO NOT CHANGE THIS CODE\n",
    "    model = solution_B2()\n",
    "    model.save(\"Model/model_B2.h5\")\n"
   ]
  }
 ],
 "metadata": {
  "kernelspec": {
   "display_name": "conda3.9",
   "language": "python",
   "name": "python3"
  },
  "language_info": {
   "codemirror_mode": {
    "name": "ipython",
    "version": 3
   },
   "file_extension": ".py",
   "mimetype": "text/x-python",
   "name": "python",
   "nbconvert_exporter": "python",
   "pygments_lexer": "ipython3",
   "version": "3.9.18"
  }
 },
 "nbformat": 4,
 "nbformat_minor": 2
}
