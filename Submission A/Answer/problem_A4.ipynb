{
 "cells": [
  {
   "cell_type": "code",
   "execution_count": null,
   "metadata": {},
   "outputs": [],
   "source": [
    "# ==========================================================================================================\n",
    "# PROBLEM A4\n",
    "#\n",
    "# Build and train a binary classifier for the IMDB review dataset.\n",
    "# The classifier should have a final layer with 1 neuron activated by sigmoid.\n",
    "# Do not use lambda layers in your model.\n",
    "#\n",
    "# The dataset used in this problem is originally published in http://ai.stanford.edu/~amaas/data/sentiment/\n",
    "#\n",
    "# Desired accuracy and validation_accuracy > 83%\n",
    "# ==========================================================================================================="
   ]
  },
  {
   "cell_type": "code",
   "execution_count": 64,
   "metadata": {},
   "outputs": [
    {
     "name": "stdout",
     "output_type": "stream",
     "text": [
      "True\n",
      "3.9.18 (main, Sep 11 2023, 13:41:44) \n",
      "[GCC 11.2.0]\n"
     ]
    },
    {
     "name": "stderr",
     "output_type": "stream",
     "text": [
      "2024-02-15 22:55:22.458749: I tensorflow/compiler/xla/stream_executor/cuda/cuda_gpu_executor.cc:981] could not open file to read NUMA node: /sys/bus/pci/devices/0000:01:00.0/numa_node\n",
      "Your kernel may have been built without NUMA support.\n",
      "2024-02-15 22:55:22.459045: I tensorflow/compiler/xla/stream_executor/cuda/cuda_gpu_executor.cc:981] could not open file to read NUMA node: /sys/bus/pci/devices/0000:01:00.0/numa_node\n",
      "Your kernel may have been built without NUMA support.\n",
      "2024-02-15 22:55:22.459089: I tensorflow/compiler/xla/stream_executor/cuda/cuda_gpu_executor.cc:981] could not open file to read NUMA node: /sys/bus/pci/devices/0000:01:00.0/numa_node\n",
      "Your kernel may have been built without NUMA support.\n",
      "2024-02-15 22:55:22.459904: I tensorflow/compiler/xla/stream_executor/cuda/cuda_gpu_executor.cc:981] could not open file to read NUMA node: /sys/bus/pci/devices/0000:01:00.0/numa_node\n",
      "Your kernel may have been built without NUMA support.\n",
      "2024-02-15 22:55:22.459918: I tensorflow/core/common_runtime/gpu/gpu_device.cc:1726] Could not identify NUMA node of platform GPU id 0, defaulting to 0.  Your kernel may not have been built with NUMA support.\n",
      "2024-02-15 22:55:22.459953: I tensorflow/compiler/xla/stream_executor/cuda/cuda_gpu_executor.cc:981] could not open file to read NUMA node: /sys/bus/pci/devices/0000:01:00.0/numa_node\n",
      "Your kernel may have been built without NUMA support.\n",
      "2024-02-15 22:55:22.459996: I tensorflow/core/common_runtime/gpu/gpu_device.cc:1639] Created device /device:GPU:0 with 3600 MB memory:  -> device: 0, name: NVIDIA GeForce RTX 3060 Laptop GPU, pci bus id: 0000:01:00.0, compute capability: 8.6\n"
     ]
    }
   ],
   "source": [
    "#Check for GPU availability\n",
    "import tensorflow as tf\n",
    "print(tf.test.is_gpu_available())\n",
    "\n",
    "#Check for python version\n",
    "import sys\n",
    "print(sys.version)"
   ]
  },
  {
   "cell_type": "code",
   "execution_count": 1,
   "metadata": {},
   "outputs": [
    {
     "name": "stderr",
     "output_type": "stream",
     "text": [
      "/root/miniconda3/envs/conda3.9/lib/python3.9/site-packages/tqdm/auto.py:21: TqdmWarning: IProgress not found. Please update jupyter and ipywidgets. See https://ipywidgets.readthedocs.io/en/stable/user_install.html\n",
      "  from .autonotebook import tqdm as notebook_tqdm\n",
      "2024-02-15 21:54:37.148956: I tensorflow/core/platform/cpu_feature_guard.cc:182] This TensorFlow binary is optimized to use available CPU instructions in performance-critical operations.\n",
      "To enable the following instructions: AVX2 FMA, in other operations, rebuild TensorFlow with the appropriate compiler flags.\n",
      "2024-02-15 21:54:38.052925: W tensorflow/compiler/tf2tensorrt/utils/py_utils.cc:38] TF-TRT Warning: Could not find TensorRT\n"
     ]
    }
   ],
   "source": [
    "#Libraries\n",
    "import tensorflow_datasets as tfds\n",
    "import numpy as np\n",
    "from tensorflow import keras\n",
    "from keras.preprocessing.text import Tokenizer\n",
    "from keras.preprocessing.sequence import pad_sequences"
   ]
  },
  {
   "cell_type": "code",
   "execution_count": 86,
   "metadata": {},
   "outputs": [],
   "source": [
    "#The callback to reach the objective\n",
    "class thecallbacks(tf.keras.callbacks.Callback):\n",
    "    def __init__(self):\n",
    "        super(thecallbacks, self).__init__()\n",
    "    \n",
    "    def on_epoch_end(self, epochs, logs=None):\n",
    "        logtrain, logval = logs[\"accuracy\"], logs[\"val_accuracy\"]\n",
    "        if logtrain > 0.83 and logval > 0.83:\n",
    "            self.model.stop_training = True"
   ]
  },
  {
   "cell_type": "code",
   "execution_count": 66,
   "metadata": {},
   "outputs": [],
   "source": [
    "#Const\n",
    "AUTOTUNE = tf.data.AUTOTUNE\n",
    "BATCH_SIZE = 32\n",
    "vocab_size = 10000\n",
    "embedding_dim = 16\n",
    "max_length = 120\n",
    "trunc_type = 'post'\n",
    "oov_tok = \"<OOV>\""
   ]
  },
  {
   "cell_type": "code",
   "execution_count": 67,
   "metadata": {},
   "outputs": [
    {
     "name": "stdout",
     "output_type": "stream",
     "text": [
      "['neg', 'pos']\n"
     ]
    },
    {
     "data": {
      "text/plain": [
       "{'train': <SplitInfo num_examples=25000, num_shards=1>,\n",
       " 'test': <SplitInfo num_examples=25000, num_shards=1>,\n",
       " 'unsupervised': <SplitInfo num_examples=50000, num_shards=1>}"
      ]
     },
     "execution_count": 67,
     "metadata": {},
     "output_type": "execute_result"
    }
   ],
   "source": [
    "#Load dataset from \"imdb_reviews\"\n",
    "imdb, info = tfds.load(\"imdb_reviews\", with_info=True, as_supervised=True)\n",
    "\n",
    "targets=info.features[\"label\"].names        #Get targets\n",
    "print(targets)\n",
    "\n",
    "info.splits                                 #Check for n of both train and test"
   ]
  },
  {
   "cell_type": "code",
   "execution_count": 68,
   "metadata": {},
   "outputs": [],
   "source": [
    "#seperate train_data, train_target, test_data and test_label\n",
    "\n",
    "train_data = imdb[\"train\"]\n",
    "test_data = imdb[\"test\"]\n",
    "\n",
    "training_sentences, training_labels = [], []\n",
    "for s, l in train_data:\n",
    "    training_sentences.append(s.numpy().decode('utf8'))\n",
    "    training_labels.append(l.numpy())\n",
    "\n",
    "testing_sentences, testing_labels = [], []\n",
    "for s, l in test_data:\n",
    "    testing_sentences.append(s.numpy().decode('utf8'))\n",
    "    testing_labels.append(l.numpy())"
   ]
  },
  {
   "cell_type": "code",
   "execution_count": 69,
   "metadata": {},
   "outputs": [],
   "source": [
    "#The tokenizer\n",
    "tokenizer = Tokenizer(num_words=vocab_size, oov_token=oov_tok)\n",
    "tokenizer.fit_on_texts(training_sentences)                      #Fit the tokenizer with the training_sentences"
   ]
  },
  {
   "cell_type": "code",
   "execution_count": null,
   "metadata": {},
   "outputs": [],
   "source": [
    "#See the words saved on the tokenizer and the occurences\n",
    "tokenizer.word_index"
   ]
  },
  {
   "cell_type": "code",
   "execution_count": 71,
   "metadata": {},
   "outputs": [],
   "source": [
    "def get_padsequences(sentences):\n",
    "    #Get how frequents the words are on the sentences, it's sorted by the first word that takes place in the sentences.\n",
    "    sequences = tokenizer.texts_to_sequences(sentences)\n",
    "    #This will return the list above to be matrices of how frequent the words are.\n",
    "    return pad_sequences(sequences, truncating=trunc_type, maxlen=max_length)\n",
    "\n",
    "training_padded = get_padsequences(training_sentences)\n",
    "testing_padded = get_padsequences(testing_sentences)"
   ]
  },
  {
   "cell_type": "code",
   "execution_count": 74,
   "metadata": {},
   "outputs": [],
   "source": [
    "def get_model():\n",
    "    model=keras.Sequential([\n",
    "        keras.layers.Embedding(input_dim=vocab_size, input_length=max_length, output_dim=embedding_dim),\n",
    "        keras.layers.GlobalAvgPool1D(),\n",
    "        keras.layers.Dropout(0.3),\n",
    "        keras.layers.Dense(32, activation=\"relu\"),\n",
    "        keras.layers.Dropout(0.3),        \n",
    "        keras.layers.Dense(1, activation='sigmoid')\n",
    "    ])   \n",
    "    model.compile(optimizer=keras.optimizers.Adam(), loss=keras.losses.BinaryCrossentropy(), metrics=\"accuracy\")\n",
    "    return model"
   ]
  },
  {
   "cell_type": "code",
   "execution_count": 87,
   "metadata": {},
   "outputs": [
    {
     "name": "stdout",
     "output_type": "stream",
     "text": [
      "Epoch 1/10\n",
      "782/782 [==============================] - 35s 43ms/step - loss: 0.5340 - accuracy: 0.7424 - val_loss: 0.3872 - val_accuracy: 0.8285\n",
      "Epoch 2/10\n",
      "782/782 [==============================] - 8s 11ms/step - loss: 0.3265 - accuracy: 0.8640 - val_loss: 0.3675 - val_accuracy: 0.8373\n"
     ]
    },
    {
     "data": {
      "text/plain": [
       "<keras.src.callbacks.History at 0x7f427013e820>"
      ]
     },
     "execution_count": 87,
     "metadata": {},
     "output_type": "execute_result"
    }
   ],
   "source": [
    "training_labels = np.array(training_labels)\n",
    "testing_labels = np.array(testing_labels)\n",
    "\n",
    "#changing data and label into a batched dataset adjusted performance wise.\n",
    "train_ds = tf.data.Dataset.from_tensor_slices((training_padded, training_labels)).cache().batch(batch_size=BATCH_SIZE).prefetch(buffer_size=AUTOTUNE)\n",
    "test_ds = tf.data.Dataset.from_tensor_slices((testing_padded, testing_labels)).cache().batch(batch_size=BATCH_SIZE).prefetch(buffer_size=AUTOTUNE)\n",
    "\n",
    "model=get_model()\n",
    "model.fit(train_ds, validation_data=test_ds, epochs=10, callbacks=[thecallbacks()])"
   ]
  },
  {
   "cell_type": "markdown",
   "metadata": {},
   "source": [
    "# Answer!"
   ]
  },
  {
   "cell_type": "code",
   "execution_count": 92,
   "metadata": {},
   "outputs": [
    {
     "name": "stdout",
     "output_type": "stream",
     "text": [
      "Epoch 1/10\n",
      "782/782 [==============================] - 53s 62ms/step - loss: 0.5163 - accuracy: 0.7583 - val_loss: 0.3835 - val_accuracy: 0.8288\n",
      "Epoch 2/10\n",
      "782/782 [==============================] - 10s 13ms/step - loss: 0.3198 - accuracy: 0.8679 - val_loss: 0.3689 - val_accuracy: 0.8373\n"
     ]
    },
    {
     "name": "stderr",
     "output_type": "stream",
     "text": [
      "/root/miniconda3/envs/conda3.9/lib/python3.9/site-packages/keras/src/engine/training.py:3000: UserWarning: You are saving your model as an HDF5 file via `model.save()`. This file format is considered legacy. We recommend using instead the native Keras format, e.g. `model.save('my_model.keras')`.\n",
      "  saving_api.save_model(\n"
     ]
    }
   ],
   "source": [
    "# ==========================================================================================================\n",
    "# PROBLEM A4\n",
    "#\n",
    "# Build and train a binary classifier for the IMDB review dataset.\n",
    "# The classifier should have a final layer with 1 neuron activated by sigmoid.\n",
    "# Do not use lambda layers in your model.\n",
    "#\n",
    "# The dataset used in this problem is originally published in http://ai.stanford.edu/~amaas/data/sentiment/\n",
    "#\n",
    "# Desired accuracy and validation_accuracy > 83%\n",
    "# ===========================================================================================================\n",
    "\n",
    "import tensorflow as tf\n",
    "import tensorflow_datasets as tfds\n",
    "import numpy as np\n",
    "from tensorflow import keras\n",
    "from keras.preprocessing.text import Tokenizer\n",
    "from keras.preprocessing.sequence import pad_sequences\n",
    "\n",
    "\n",
    "def solution_A4():\n",
    "    \n",
    "    # Download dataset\n",
    "    imdb, info = tfds.load(\"imdb_reviews\", with_info=True, as_supervised=True)\n",
    "    \n",
    "    # Get sentences and labels from both dataset\n",
    "    train_data = imdb[\"train\"]\n",
    "    test_data = imdb[\"test\"]\n",
    "    training_sentences, training_labels = [], []\n",
    "    for s, l in train_data:\n",
    "        training_sentences.append(s.numpy().decode('utf8'))\n",
    "        training_labels.append(l.numpy())\n",
    "    testing_sentences, testing_labels = [], []\n",
    "    for s, l in test_data:\n",
    "        testing_sentences.append(s.numpy().decode('utf8'))\n",
    "        testing_labels.append(l.numpy())\n",
    "        \n",
    "    #const\n",
    "    BATCH_SIZE = 32\n",
    "    AUTOTUNE = tf.data.AUTOTUNE\n",
    "    vocab_size = 10000\n",
    "    embedding_dim = 16\n",
    "    max_length = 120\n",
    "    trunc_type = 'post'\n",
    "    oov_tok = \"<OOV>\"\n",
    "\n",
    "    # Fit your tokenizer with training data\n",
    "    tokenizer =  Tokenizer(oov_token=oov_tok, num_words=vocab_size)\n",
    "    tokenizer.fit_on_texts(training_sentences)\n",
    "    \n",
    "    # Get pad sequences of each sentences\n",
    "    def get_padsequences(sentences):\n",
    "        ## Get how frequents the words are on the sentences, it's sorted by the first word that takes place in the sentences.\n",
    "        sequences = tokenizer.texts_to_sequences(sentences)\n",
    "        ## This will return the list above to be matrices of how frequent the words are.\n",
    "        return pad_sequences(sequences, truncating=trunc_type, maxlen=max_length)\n",
    "    \n",
    "    training_padded = get_padsequences(training_sentences)\n",
    "    testing_padded = get_padsequences(testing_sentences)\n",
    "    \n",
    "    # Change label type to numpy array, if not. It'll crash\n",
    "    training_labels = np.array(training_labels)\n",
    "    testing_labels = np.array(testing_labels)\n",
    "    \n",
    "    # Change to a ds and adjust it for performance\n",
    "    def convert_to_ds(padded, labels):\n",
    "        ds = tf.data.Dataset.from_tensor_slices((padded, labels))\n",
    "        ds = ds.cache()\n",
    "        ds = ds.batch(batch_size=BATCH_SIZE)\n",
    "        ds = ds.prefetch(buffer_size=AUTOTUNE)\n",
    "        return ds\n",
    "    train_ds = convert_to_ds(training_padded, training_labels)\n",
    "    test_ds = convert_to_ds(testing_padded, testing_labels)\n",
    "    \n",
    "    # The callback to stop upon reaching the objective\n",
    "    class thecallbacks(tf.keras.callbacks.Callback):\n",
    "        def __init__(self):\n",
    "            super(thecallbacks, self).__init__()\n",
    "        \n",
    "        def on_epoch_end(self, epochs, logs=None):\n",
    "            logtrain, logval = logs[\"accuracy\"], logs[\"val_accuracy\"]\n",
    "            if logtrain > 0.83 and logval > 0.83:\n",
    "                self.model.stop_training = True\n",
    "            \n",
    "    def get_model():\n",
    "        model=keras.Sequential([\n",
    "            keras.layers.Embedding(input_dim=vocab_size, input_length=max_length, output_dim=embedding_dim),\n",
    "            keras.layers.GlobalAvgPool1D(),\n",
    "            keras.layers.Dropout(0.3),\n",
    "            keras.layers.Dense(32, activation=\"relu\"),\n",
    "            keras.layers.Dropout(0.3),        \n",
    "            keras.layers.Dense(1, activation='sigmoid')\n",
    "        ])   \n",
    "        model.compile(optimizer=keras.optimizers.Adam(), loss=keras.losses.BinaryCrossentropy(), metrics=\"accuracy\")\n",
    "        return model\n",
    "    \n",
    "    model=get_model()\n",
    "    model.fit(train_ds, validation_data=test_ds, epochs=10, callbacks=[thecallbacks()])\n",
    "    \n",
    "    return model\n",
    "\n",
    "\n",
    "# The code below is to save your model as a .h5 file.\n",
    "# It will be saved automatically in your Submission folder.\n",
    "if __name__ == '__main__':\n",
    "    # DO NOT CHANGE THIS CODE\n",
    "    model = solution_A4()\n",
    "    model.save(\"model_A4.h5\")"
   ]
  }
 ],
 "metadata": {
  "kernelspec": {
   "display_name": "conda3.9",
   "language": "python",
   "name": "python3"
  },
  "language_info": {
   "codemirror_mode": {
    "name": "ipython",
    "version": 3
   },
   "file_extension": ".py",
   "mimetype": "text/x-python",
   "name": "python",
   "nbconvert_exporter": "python",
   "pygments_lexer": "ipython3",
   "version": "3.9.18"
  }
 },
 "nbformat": 4,
 "nbformat_minor": 2
}
