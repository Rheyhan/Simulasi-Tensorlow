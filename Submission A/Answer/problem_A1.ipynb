{
 "cells": [
  {
   "cell_type": "code",
   "execution_count": 1,
   "metadata": {},
   "outputs": [],
   "source": [
    "# =================================================================================\n",
    "# PROBLEM A1\n",
    "#\n",
    "# Given two arrays, train a neural network model to match the X to the Y.\n",
    "# Predict the model with new values of X [-2.0, 10.0]\n",
    "# We provide the model prediction, do not change the code.\n",
    "#\n",
    "# The test infrastructure expects a trained model that accepts\n",
    "# an input shape of [1].\n",
    "# Do not use lambda layers in your model.\n",
    "#\n",
    "# Please be aware that this is a linear model.\n",
    "# We will test your model with values in a range as defined in the array to make sure your model is linear.\n",
    "#\n",
    "# Desired loss (MSE) < 1e-4\n",
    "# ================================================================================="
   ]
  },
  {
   "cell_type": "code",
   "execution_count": 1,
   "metadata": {},
   "outputs": [
    {
     "name": "stderr",
     "output_type": "stream",
     "text": [
      "2024-02-14 22:48:15.586993: I tensorflow/core/platform/cpu_feature_guard.cc:182] This TensorFlow binary is optimized to use available CPU instructions in performance-critical operations.\n",
      "To enable the following instructions: AVX2 FMA, in other operations, rebuild TensorFlow with the appropriate compiler flags.\n",
      "2024-02-14 22:48:17.706700: W tensorflow/compiler/tf2tensorrt/utils/py_utils.cc:38] TF-TRT Warning: Could not find TensorRT\n"
     ]
    }
   ],
   "source": [
    "import numpy as np\n",
    "import tensorflow as tf\n",
    "from tensorflow import keras"
   ]
  },
  {
   "cell_type": "code",
   "execution_count": 3,
   "metadata": {},
   "outputs": [],
   "source": [
    "class GetBestMetrics(tf.keras.callbacks.Callback):\n",
    "    def __init__(self, themetrics):\n",
    "        super(GetBestMetrics, self).__init__()\n",
    "        self.themetrics = themetrics\n",
    "\n",
    "    def on_epoch_end(self, epoch, logs=None): \n",
    "        logged = logs[\"mean_squared_error\"]\n",
    "        if logged <= self.themetrics:\n",
    "            self.model.stop_training = True"
   ]
  },
  {
   "cell_type": "code",
   "execution_count": null,
   "metadata": {},
   "outputs": [],
   "source": [
    "def get_model():\n",
    "    model=keras.Sequential([\n",
    "        keras.layers.Normalization(),\n",
    "        keras.layers.Dense(16, activation=\"linear\"),\n",
    "        keras.layers.Dense(4, activation=\"linear\"),\n",
    "        keras.layers.Dense(1)\n",
    "        ])\n",
    "\n",
    "    model.compile(\n",
    "        optimizer=tf.keras.optimizers.Adam(learning_rate=0.001),\n",
    "        loss=keras.losses.mae,\n",
    "        metrics=keras.metrics.MSE)\n",
    "    \n",
    "    return model\n",
    "\n",
    "X = np.array([-4.0, -3.0, -2.0, -1.0, 0.0, 1.0,\n",
    "                2.0, 3.0, 4.0, 5.0], dtype=float)\n",
    "Y = np.array([5.0, 6.0, 7.0, 8.0, 9.0, 10.0, 11.0,\n",
    "                12.0, 13.0, 14.0, ], dtype=float)\n",
    "\n",
    "X=X.reshape(-1,1)\n",
    "\n",
    "tf.random.set_seed(12)\n",
    "model=get_model()\n",
    "\n",
    "history=model.fit(X, Y, epochs=1000, callbacks=[GetBestMetrics(1e-5)])          #GetMSE lower than 1e-5"
   ]
  },
  {
   "cell_type": "code",
   "execution_count": 54,
   "metadata": {},
   "outputs": [
    {
     "name": "stdout",
     "output_type": "stream",
     "text": [
      "WARNING:tensorflow:5 out of the last 5 calls to <function Model.make_predict_function.<locals>.predict_function at 0x000001E1E5189F80> triggered tf.function retracing. Tracing is expensive and the excessive number of tracings could be due to (1) creating @tf.function repeatedly in a loop, (2) passing tensors with different shapes, (3) passing Python objects instead of tensors. For (1), please define your @tf.function outside of the loop. For (2), @tf.function has reduce_retracing=True option that can avoid unnecessary retracing. For (3), please refer to https://www.tensorflow.org/guide/function#controlling_retracing and https://www.tensorflow.org/api_docs/python/tf/function for  more details.\n",
      "1/1 [==============================] - 0s 190ms/step\n",
      "[[ 6.990371]\n",
      " [19.032457]]\n"
     ]
    }
   ],
   "source": [
    "print(model.predict([-2.0, 10.0]))"
   ]
  },
  {
   "cell_type": "markdown",
   "metadata": {},
   "source": [
    "Answer of the Problem_A1"
   ]
  },
  {
   "cell_type": "code",
   "execution_count": 27,
   "metadata": {},
   "outputs": [
    {
     "name": "stdout",
     "output_type": "stream",
     "text": [
      "1 {'loss': 9.483269691467285, 'mean_squared_error': 97.63954162597656}\n",
      "50 {'loss': 8.850717544555664, 'mean_squared_error': 79.14726257324219}\n",
      "100 {'loss': 7.839199066162109, 'mean_squared_error': 64.7375259399414}\n",
      "150 {'loss': 6.546536922454834, 'mean_squared_error': 61.61249923706055}\n",
      "200 {'loss': 5.45584774017334, 'mean_squared_error': 41.93352508544922}\n",
      "250 {'loss': 3.7765984535217285, 'mean_squared_error': 20.211414337158203}\n",
      "300 {'loss': 1.0483118295669556, 'mean_squared_error': 1.5711989402770996}\n",
      "350 {'loss': 0.03509044647216797, 'mean_squared_error': 0.0018240750068798661}\n",
      "353 {'loss': 0.008558225817978382, 'mean_squared_error': 7.519162318203598e-05}\n",
      "1/1 [==============================] - 0s 135ms/step\n",
      "[[ 7.0312624]\n",
      " [18.913652 ]]\n"
     ]
    },
    {
     "name": "stderr",
     "output_type": "stream",
     "text": [
      "C:\\Users\\Rhey\\AppData\\Local\\Packages\\PythonSoftwareFoundation.Python.3.11_qbz5n2kfra8p0\\LocalCache\\local-packages\\Python311\\site-packages\\keras\\src\\engine\\training.py:3000: UserWarning: You are saving your model as an HDF5 file via `model.save()`. This file format is considered legacy. We recommend using instead the native Keras format, e.g. `model.save('my_model.keras')`.\n",
      "  saving_api.save_model(\n"
     ]
    }
   ],
   "source": [
    "# =================================================================================\n",
    "# PROBLEM A1\n",
    "#\n",
    "# Given two arrays, train a neural network model to match the X to the Y.\n",
    "# Predict the model with new values of X [-2.0, 10.0]\n",
    "# We provide the model prediction, do not change the code.\n",
    "#\n",
    "# The test infrastructure expects a trained model that accepts\n",
    "# an input shape of [1].\n",
    "# Do not use lambda layers in your model.\n",
    "#\n",
    "# Please be aware that this is a linear model.\n",
    "# We will test your model with values in a range as defined in the array to make sure your model is linear.\n",
    "#\n",
    "# Desired loss (MSE) < 1e-4\n",
    "# =================================================================================\n",
    "\n",
    "import numpy as np\n",
    "import tensorflow as tf\n",
    "from tensorflow import keras\n",
    "\n",
    "\n",
    "# callbacks!\n",
    "## Class to show verbose each 50 iterations and ends.\n",
    "class simplelogger(tf.keras.callbacks.Callback):\n",
    "    '''Set Verbose to 0 on .fit function'''\n",
    "    def __init__(self, eachiter):\n",
    "        super(simplelogger, self).__init__()\n",
    "        self.eachiter=eachiter\n",
    "        self.epochs=0\n",
    "\n",
    "    def on_epoch_begin(self, epoch, logs=None):\n",
    "        self.epochs += 1\n",
    "        \n",
    "    def on_epoch_end(self, epoch, logs=None):\n",
    "        if self.epochs==1:\n",
    "            print(self.epochs, logs)\n",
    "        if self.epochs % self.eachiter == 0:\n",
    "            print(self.epochs, logs)\n",
    "    \n",
    "##class to stop iteration after getting loss lower than 1e-4\n",
    "class meetobjective(tf.keras.callbacks.Callback):\n",
    "    def __init__(self, themetrics, condition=[\"lower\", \"higher\"]):\n",
    "        super(meetobjective, self).__init__()\n",
    "        self.themetrics = themetrics\n",
    "        self.condition = condition\n",
    "        self.epochs=0\n",
    "\n",
    "    def on_epoch_begin(self, epoch, logs=None):\n",
    "        self.epochs += 1\n",
    "        \n",
    "    def on_epoch_end(self, epoch, logs=None): \n",
    "        logged = logs[\"mean_squared_error\"]\n",
    "        if self.condition==\"lower\":\n",
    "            if logged <= self.themetrics:\n",
    "                self.model.stop_training = True\n",
    "                print(self.epochs, logs)\n",
    "        elif self.condition==\"higher\":\n",
    "            if logged >= self.themetrics:\n",
    "                self.model.stop_training = True\n",
    "                print(self.epochs, logs)\n",
    "        else: print(\"wrong condition for the logger!\")\n",
    "\n",
    "#function get model.\n",
    "def getmodel():\n",
    "    model=keras.Sequential([\n",
    "        keras.layers.Normalization(),\n",
    "        keras.layers.Dense(16, activation=\"linear\"),\n",
    "        keras.layers.Dense(4, activation=\"linear\"),\n",
    "        keras.layers.Dense(1)\n",
    "        ])\n",
    "    \n",
    "    model.compile(optimizer=\"adam\", loss=keras.losses.MAE, metrics=keras.metrics.MSE)\n",
    "    \n",
    "    return model\n",
    "\n",
    "#original code\n",
    "def solution_A1():\n",
    "    # DO NOT CHANGE THIS CODE\n",
    "    X = np.array([-4.0, -3.0, -2.0, -1.0, 0.0, 1.0,\n",
    "                 2.0, 3.0, 4.0, 5.0], dtype=float)\n",
    "    Y = np.array([5.0, 6.0, 7.0, 8.0, 9.0, 10.0, 11.0,\n",
    "                 12.0, 13.0, 14.0, ], dtype=float)\n",
    "\n",
    "\n",
    "    # TODO YOUR CODE HERE\n",
    "    ##Reshape to -1,1, so it'll fit to the model\n",
    "    X=X.reshape(-1,1)\n",
    "    model=getmodel()\n",
    "    model.fit(X, Y, callbacks=[simplelogger(50),meetobjective(1e-4, \"lower\")], epochs=1000, verbose=0)\n",
    "\n",
    "    print(model.predict([-2.0, 10.0]))\n",
    "    return model\n",
    "\n",
    "\n",
    "# The code below is to save your model as a .h5 file.\n",
    "# It will be saved automatically in your Submission folder.\n",
    "if __name__ == '__main__':\n",
    "    # DO NOT CHANGE THIS CODE\n",
    "    model = solution_A1()\n",
    "    model.save(\"TheModel/model_A1.h5\")\n"
   ]
  }
 ],
 "metadata": {
  "kernelspec": {
   "display_name": "Python 3",
   "language": "python",
   "name": "python3"
  },
  "language_info": {
   "codemirror_mode": {
    "name": "ipython",
    "version": 3
   },
   "file_extension": ".py",
   "mimetype": "text/x-python",
   "name": "python",
   "nbconvert_exporter": "python",
   "pygments_lexer": "ipython3",
   "version": "3.9.18"
  }
 },
 "nbformat": 4,
 "nbformat_minor": 2
}
