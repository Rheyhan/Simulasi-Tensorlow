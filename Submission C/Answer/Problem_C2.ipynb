{
 "cells": [
  {
   "cell_type": "code",
   "execution_count": 1,
   "metadata": {},
   "outputs": [],
   "source": [
    "# =============================================================================\n",
    "# PROBLEM C2\n",
    "#\n",
    "# Create a classifier for the MNIST Handwritten digit dataset.\n",
    "# The test will expect it to classify 10 classes.\n",
    "#\n",
    "# Don't use lambda layers in your model.\n",
    "#\n",
    "# Desired accuracy AND validation_accuracy > 91%\n",
    "# ============================================================================="
   ]
  },
  {
   "cell_type": "code",
   "execution_count": 2,
   "metadata": {},
   "outputs": [
    {
     "name": "stderr",
     "output_type": "stream",
     "text": [
      "2024-02-17 11:09:06.806260: I tensorflow/core/platform/cpu_feature_guard.cc:182] This TensorFlow binary is optimized to use available CPU instructions in performance-critical operations.\n",
      "To enable the following instructions: AVX2 FMA, in other operations, rebuild TensorFlow with the appropriate compiler flags.\n",
      "2024-02-17 11:09:07.813924: W tensorflow/compiler/tf2tensorrt/utils/py_utils.cc:38] TF-TRT Warning: Could not find TensorRT\n"
     ]
    }
   ],
   "source": [
    "import tensorflow as tf"
   ]
  },
  {
   "cell_type": "code",
   "execution_count": 19,
   "metadata": {},
   "outputs": [],
   "source": [
    "# download ds\n",
    "mnist = tf.keras.datasets.mnist\n",
    "data=mnist.load_data()"
   ]
  },
  {
   "cell_type": "code",
   "execution_count": 20,
   "metadata": {},
   "outputs": [],
   "source": [
    "# const\n",
    "AUTOTUNE = tf.data.AUTOTUNE\n",
    "BATCH_SIZE = 32\n",
    "IMG_HEIGHT, IMG_WIDTH=data[0][0][0].shape"
   ]
  },
  {
   "cell_type": "code",
   "execution_count": 22,
   "metadata": {},
   "outputs": [],
   "source": [
    "# turn to batches and increase performance\n",
    "def turn_batch_performance(ds):\n",
    "    ds = tf.data.Dataset.from_tensor_slices(ds)\n",
    "    ds = ds.cache()\n",
    "    ds = ds.batch(BATCH_SIZE)\n",
    "    ds = ds.prefetch(AUTOTUNE)\n",
    "    return ds\n",
    "\n",
    "train_ds = turn_batch_performance(data[0])\n",
    "val_ds = turn_batch_performance(data[1])"
   ]
  },
  {
   "cell_type": "code",
   "execution_count": 24,
   "metadata": {},
   "outputs": [],
   "source": [
    "# normalization layer\n",
    "normalization = tf.keras.Sequential([\n",
    "    tf.keras.layers.Rescaling(1./255)\n",
    "])"
   ]
  },
  {
   "cell_type": "code",
   "execution_count": 37,
   "metadata": {},
   "outputs": [],
   "source": [
    "def get_model():\n",
    "    model = tf.keras.Sequential([\n",
    "        tf.keras.layers.InputLayer(input_shape=(IMG_HEIGHT, IMG_WIDTH, 1)),\n",
    "        \n",
    "        normalization,\n",
    "        \n",
    "        tf.keras.layers.Conv2D(128, kernel_size=3, activation=\"relu\"),\n",
    "        tf.keras.layers.AveragePooling2D((2,2)),\n",
    "\n",
    "        tf.keras.layers.Conv2D(64, kernel_size=3, activation=\"relu\"),\n",
    "        tf.keras.layers.AveragePooling2D((2,2)),\n",
    "\n",
    "        tf.keras.layers.Conv2D(32, kernel_size=3, activation=\"relu\"),\n",
    "        tf.keras.layers.AveragePooling2D((2,2)),\n",
    "        \n",
    "        tf.keras.layers.Flatten(),\n",
    "        tf.keras.layers.Dropout(0.4),\n",
    "        tf.keras.layers.Dense(64, activation=\"relu\"),\n",
    "        tf.keras.layers.Dropout(0.2),\n",
    "        tf.keras.layers.Dense(10, activation=\"softmax\")])\n",
    "    \n",
    "    model.compile(optimizer=\"adam\", loss=tf.keras.losses.SparseCategoricalCrossentropy(from_logits = True), metrics=\"accuracy\")\n",
    " \n",
    "    return model\n",
    "    "
   ]
  },
  {
   "cell_type": "code",
   "execution_count": 39,
   "metadata": {},
   "outputs": [],
   "source": [
    "class thecallback(tf.keras.callbacks.Callback):\n",
    "    def __init__(self):\n",
    "        super(thecallback, self).__init__()\n",
    "        \n",
    "    def on_epoch_end(self, epoch, logs=None):\n",
    "        loggedtrain, loggedval = logs[\"accuracy\"], logs[\"val_accuracy\"]\n",
    "        if loggedtrain > 0.91 and loggedval > 0.91:\n",
    "            self.model.stop_training = True"
   ]
  },
  {
   "cell_type": "code",
   "execution_count": 41,
   "metadata": {},
   "outputs": [
    {
     "name": "stdout",
     "output_type": "stream",
     "text": [
      "Epoch 1/100\n"
     ]
    },
    {
     "name": "stderr",
     "output_type": "stream",
     "text": [
      "/root/miniconda3/envs/conda3.9/lib/python3.9/site-packages/keras/src/backend.py:5714: UserWarning: \"`sparse_categorical_crossentropy` received `from_logits=True`, but the `output` argument was produced by a Softmax activation and thus does not represent logits. Was this intended?\n",
      "  output, from_logits = _get_logits(\n"
     ]
    },
    {
     "name": "stdout",
     "output_type": "stream",
     "text": [
      "1875/1875 [==============================] - 23s 11ms/step - loss: 0.6786 - accuracy: 0.7746 - val_loss: 0.1464 - val_accuracy: 0.9559\n",
      "Epoch 2/100\n",
      "1875/1875 [==============================] - 18s 10ms/step - loss: 0.3145 - accuracy: 0.9010 - val_loss: 0.0971 - val_accuracy: 0.9721\n",
      "Epoch 3/100\n",
      "1875/1875 [==============================] - 19s 10ms/step - loss: 0.2365 - accuracy: 0.9268 - val_loss: 0.0863 - val_accuracy: 0.9740\n"
     ]
    },
    {
     "data": {
      "text/plain": [
       "<keras.src.callbacks.History at 0x7f7235ea83a0>"
      ]
     },
     "execution_count": 41,
     "metadata": {},
     "output_type": "execute_result"
    }
   ],
   "source": [
    "model = get_model()\n",
    "model.fit(train_ds, validation_data=val_ds, epochs=100, callbacks=thecallback())"
   ]
  },
  {
   "cell_type": "markdown",
   "metadata": {},
   "source": [
    "# Answer!"
   ]
  },
  {
   "cell_type": "code",
   "execution_count": 42,
   "metadata": {},
   "outputs": [
    {
     "name": "stdout",
     "output_type": "stream",
     "text": [
      "Epoch 1/100\n"
     ]
    },
    {
     "name": "stderr",
     "output_type": "stream",
     "text": [
      "/root/miniconda3/envs/conda3.9/lib/python3.9/site-packages/keras/src/backend.py:5714: UserWarning: \"`sparse_categorical_crossentropy` received `from_logits=True`, but the `output` argument was produced by a Softmax activation and thus does not represent logits. Was this intended?\n",
      "  output, from_logits = _get_logits(\n"
     ]
    },
    {
     "name": "stdout",
     "output_type": "stream",
     "text": [
      "1875/1875 [==============================] - 25s 12ms/step - loss: 0.6086 - accuracy: 0.8012 - val_loss: 0.1313 - val_accuracy: 0.9592\n",
      "Epoch 2/100\n",
      "1875/1875 [==============================] - 20s 11ms/step - loss: 0.2673 - accuracy: 0.9191 - val_loss: 0.0986 - val_accuracy: 0.9718\n"
     ]
    },
    {
     "name": "stderr",
     "output_type": "stream",
     "text": [
      "/root/miniconda3/envs/conda3.9/lib/python3.9/site-packages/keras/src/engine/training.py:3000: UserWarning: You are saving your model as an HDF5 file via `model.save()`. This file format is considered legacy. We recommend using instead the native Keras format, e.g. `model.save('my_model.keras')`.\n",
      "  saving_api.save_model(\n"
     ]
    }
   ],
   "source": [
    "# =============================================================================\n",
    "# PROBLEM C2\n",
    "#\n",
    "# Create a classifier for the MNIST Handwritten digit dataset.\n",
    "# The test will expect it to classify 10 classes.\n",
    "#\n",
    "# Don't use lambda layers in your model.\n",
    "#\n",
    "# Desired accuracy AND validation_accuracy > 91%\n",
    "# =============================================================================\n",
    "\n",
    "import tensorflow as tf\n",
    "\n",
    "\n",
    "def solution_C2():\n",
    "    # download ds\n",
    "    mnist = tf.keras.datasets.mnist\n",
    "    data=mnist.load_data()\n",
    "\n",
    "    # const\n",
    "    AUTOTUNE = tf.data.AUTOTUNE\n",
    "    BATCH_SIZE = 32\n",
    "    IMG_HEIGHT, IMG_WIDTH=data[0][0][0].shape\n",
    "\n",
    "    # turn to batches and increase performance\n",
    "    def turn_batch_performance(ds):\n",
    "        ds = tf.data.Dataset.from_tensor_slices(ds)\n",
    "        ds = ds.cache()\n",
    "        ds = ds.batch(BATCH_SIZE)\n",
    "        ds = ds.prefetch(AUTOTUNE)\n",
    "        return ds\n",
    "\n",
    "    train_ds = turn_batch_performance(data[0])\n",
    "    val_ds = turn_batch_performance(data[1])\n",
    "\n",
    "    # normalization layer\n",
    "    normalization = tf.keras.Sequential([\n",
    "        tf.keras.layers.Rescaling(1./255)\n",
    "    ])\n",
    "\n",
    "    def get_model():\n",
    "        model = tf.keras.Sequential([\n",
    "            tf.keras.layers.InputLayer(input_shape=(IMG_HEIGHT, IMG_WIDTH, 1)),\n",
    "            \n",
    "            normalization,\n",
    "            \n",
    "            tf.keras.layers.Conv2D(128, kernel_size=3, activation=\"relu\"),\n",
    "            tf.keras.layers.AveragePooling2D((2,2)),\n",
    "\n",
    "            tf.keras.layers.Conv2D(64, kernel_size=3, activation=\"relu\"),\n",
    "            tf.keras.layers.AveragePooling2D((2,2)),\n",
    "\n",
    "            tf.keras.layers.Conv2D(32, kernel_size=3, activation=\"relu\"),\n",
    "            tf.keras.layers.AveragePooling2D((2,2)),\n",
    "            \n",
    "            tf.keras.layers.Flatten(),\n",
    "            tf.keras.layers.Dropout(0.4),\n",
    "            tf.keras.layers.Dense(64, activation=\"relu\"),\n",
    "            tf.keras.layers.Dropout(0.2),\n",
    "            tf.keras.layers.Dense(10, activation=\"softmax\")])\n",
    "        \n",
    "        model.compile(optimizer=\"adam\", loss=tf.keras.losses.SparseCategoricalCrossentropy(from_logits = True), metrics=\"accuracy\")\n",
    "    \n",
    "        return model\n",
    "\n",
    "    class thecallback(tf.keras.callbacks.Callback):\n",
    "        def __init__(self):\n",
    "            super(thecallback, self).__init__()\n",
    "            \n",
    "        def on_epoch_end(self, epoch, logs=None):\n",
    "            loggedtrain, loggedval = logs[\"accuracy\"], logs[\"val_accuracy\"]\n",
    "            if loggedtrain > 0.91 and loggedval > 0.91:\n",
    "                self.model.stop_training = True\n",
    "\n",
    "    model = get_model()\n",
    "    model.fit(train_ds, validation_data=val_ds, epochs=100, callbacks=thecallback())\n",
    "\n",
    "    return model\n",
    "\n",
    "\n",
    "# The code below is to save your model as a .h5 file.\n",
    "# It will be saved automatically in your Submission folder.\n",
    "if __name__ == '__main__':\n",
    "    # DO NOT CHANGE THIS CODE\n",
    "    model = solution_C2()\n",
    "    model.save(\"Model/model_C2.h5\")\n"
   ]
  }
 ],
 "metadata": {
  "kernelspec": {
   "display_name": "conda3.9",
   "language": "python",
   "name": "python3"
  },
  "language_info": {
   "codemirror_mode": {
    "name": "ipython",
    "version": 3
   },
   "file_extension": ".py",
   "mimetype": "text/x-python",
   "name": "python",
   "nbconvert_exporter": "python",
   "pygments_lexer": "ipython3",
   "version": "3.9.18"
  }
 },
 "nbformat": 4,
 "nbformat_minor": 2
}
