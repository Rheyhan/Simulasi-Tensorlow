{
 "cells": [
  {
   "cell_type": "code",
   "execution_count": 1,
   "metadata": {},
   "outputs": [],
   "source": [
    "# =====================================================================================================\n",
    "# PROBLEM C4\n",
    "#\n",
    "# Build and train a classifier for the sarcasm dataset.\n",
    "# The classifier should have a final layer with 1 neuron activated by sigmoid.\n",
    "#\n",
    "# Do not use lambda layers in your model.\n",
    "#\n",
    "# Dataset used in this problem is built by Rishabh Misra (https://rishabhmisra.github.io/publications).\n",
    "#\n",
    "# Desired accuracy and validation_accuracy > 75%\n",
    "# =======================================================================================================\n"
   ]
  },
  {
   "cell_type": "code",
   "execution_count": 2,
   "metadata": {},
   "outputs": [],
   "source": [
    "import json\n",
    "import tensorflow as tf\n",
    "import numpy as np\n",
    "import urllib\n",
    "from tensorflow import keras \n",
    "from keras.preprocessing.text import Tokenizer\n",
    "from keras.preprocessing.sequence import pad_sequences"
   ]
  },
  {
   "cell_type": "code",
   "execution_count": 17,
   "metadata": {},
   "outputs": [],
   "source": [
    "# Const\n",
    "vocab_size = 1000\n",
    "embedding_dim = 16\n",
    "max_length = 120\n",
    "trunc_type = 'post'\n",
    "padding_type = 'post'\n",
    "oov_tok = \"<OOV>\"\n",
    "training_size = 20000"
   ]
  },
  {
   "cell_type": "code",
   "execution_count": 4,
   "metadata": {},
   "outputs": [
    {
     "data": {
      "text/plain": [
       "('sarcasm.json', <http.client.HTTPMessage at 0x7fbe32f0be20>)"
      ]
     },
     "execution_count": 4,
     "metadata": {},
     "output_type": "execute_result"
    }
   ],
   "source": [
    "# Get Data\n",
    "data_url = 'https://github.com/dicodingacademy/assets/raw/main/Simulation/machine_learning/sarcasm.json'\n",
    "urllib.request.urlretrieve(data_url, 'sarcasm.json')"
   ]
  },
  {
   "cell_type": "code",
   "execution_count": 20,
   "metadata": {},
   "outputs": [],
   "source": [
    "temp = open(\"sarcasm.json\")\n",
    "data = json.load(temp)"
   ]
  },
  {
   "cell_type": "code",
   "execution_count": 27,
   "metadata": {},
   "outputs": [],
   "source": [
    "sentences = []\n",
    "labels = []\n",
    "\n",
    "for i in data:\n",
    "    sentences.append(i[\"headline\"])\n",
    "    labels.append(i[\"is_sarcastic\"])"
   ]
  },
  {
   "cell_type": "code",
   "execution_count": 32,
   "metadata": {},
   "outputs": [],
   "source": [
    "train_sentences = sentences[:training_size]\n",
    "val_sentences = sentences[training_size:]\n",
    "train_labels = labels[:training_size]\n",
    "val_labels = labels[training_size:]"
   ]
  },
  {
   "cell_type": "code",
   "execution_count": 30,
   "metadata": {},
   "outputs": [],
   "source": [
    "token = Tokenizer(num_words=vocab_size, oov_token = oov_tok)\n",
    "token.fit_on_texts(train_sentences)"
   ]
  },
  {
   "cell_type": "code",
   "execution_count": 33,
   "metadata": {},
   "outputs": [],
   "source": [
    "def get_pad_sequences(sentences):\n",
    "    sequences = token.texts_to_sequences(sentences)\n",
    "    return pad_sequences(sequences, maxlen=max_length, padding=padding_type, truncating=trunc_type)\n",
    "\n",
    "train_pad_sequences=get_pad_sequences(train_sentences)\n",
    "val_pad_sequences=get_pad_sequences(val_sentences)"
   ]
  },
  {
   "cell_type": "code",
   "execution_count": 35,
   "metadata": {},
   "outputs": [],
   "source": [
    "# Turn into a batch ds\n",
    "def get_ds(padsequences, labels):\n",
    "    ds = tf.data.Dataset.from_tensor_slices((padsequences, labels))\n",
    "    ds = ds.cache()\n",
    "    ds = ds.batch(32)\n",
    "    return ds.prefetch(tf.data.AUTOTUNE)\n",
    "\n",
    "train_ds=get_ds(train_pad_sequences, train_labels)\n",
    "val_ds=get_ds(val_pad_sequences, val_labels)"
   ]
  },
  {
   "cell_type": "code",
   "execution_count": 36,
   "metadata": {},
   "outputs": [],
   "source": [
    "class thecallback(tf.keras.callbacks.Callback):\n",
    "    def __init__(self):\n",
    "        super(thecallback, self).__init__()\n",
    "        \n",
    "    def on_epoch_end(self, epoch, logs=None):\n",
    "        loggedtrain, loggedval = logs[\"accuracy\"], logs[\"val_accuracy\"]\n",
    "        if loggedtrain > 0.75 and loggedval > 0.75:\n",
    "            self.model.stop_training = True"
   ]
  },
  {
   "cell_type": "code",
   "execution_count": 39,
   "metadata": {},
   "outputs": [],
   "source": [
    "def get_model():\n",
    "    model = tf.keras.Sequential([\n",
    "        tf.keras.layers.Embedding(input_dim=vocab_size, output_dim=embedding_dim, input_length=max_length),\n",
    "        keras.layers.GlobalAvgPool1D(),\n",
    "        keras.layers.BatchNormalization(),\n",
    "        keras.layers.Dropout(0.3),\n",
    "        keras.layers.Dense(32, activation=\"relu\"),\n",
    "        keras.layers.Dropout(0.3),\n",
    "        tf.keras.layers.Dense(1, activation='sigmoid')\n",
    "    ])\n",
    "    \n",
    "    model.compile(optimizer = \"adam\", loss=keras.losses.binary_crossentropy, metrics=\"accuracy\")\n",
    "    return model"
   ]
  },
  {
   "cell_type": "code",
   "execution_count": 42,
   "metadata": {},
   "outputs": [
    {
     "name": "stdout",
     "output_type": "stream",
     "text": [
      "Epoch 1/100\n",
      "625/625 [==============================] - 19s 27ms/step - loss: 0.5034 - accuracy: 0.7488 - val_loss: 0.4419 - val_accuracy: 0.7951\n",
      "Epoch 2/100\n",
      "625/625 [==============================] - 6s 10ms/step - loss: 0.4021 - accuracy: 0.8153 - val_loss: 0.6743 - val_accuracy: 0.6994\n",
      "Epoch 3/100\n",
      "625/625 [==============================] - 7s 12ms/step - loss: 0.3890 - accuracy: 0.8262 - val_loss: 0.4758 - val_accuracy: 0.7857\n"
     ]
    },
    {
     "data": {
      "text/plain": [
       "<keras.src.callbacks.History at 0x7fbe241a24c0>"
      ]
     },
     "execution_count": 42,
     "metadata": {},
     "output_type": "execute_result"
    }
   ],
   "source": [
    "model=get_model()\n",
    "model.fit(train_ds, validation_data=val_ds, epochs=100, callbacks=thecallback())"
   ]
  },
  {
   "cell_type": "code",
   "execution_count": 43,
   "metadata": {},
   "outputs": [
    {
     "name": "stdout",
     "output_type": "stream",
     "text": [
      "Epoch 1/100\n",
      "625/625 [==============================] - 19s 27ms/step - loss: 0.5083 - accuracy: 0.7383 - val_loss: 0.4750 - val_accuracy: 0.7682\n",
      "Epoch 2/100\n",
      "625/625 [==============================] - 8s 12ms/step - loss: 0.4046 - accuracy: 0.8156 - val_loss: 0.4183 - val_accuracy: 0.8050\n"
     ]
    },
    {
     "name": "stderr",
     "output_type": "stream",
     "text": [
      "/root/miniconda3/envs/conda3.9/lib/python3.9/site-packages/keras/src/engine/training.py:3000: UserWarning: You are saving your model as an HDF5 file via `model.save()`. This file format is considered legacy. We recommend using instead the native Keras format, e.g. `model.save('my_model.keras')`.\n",
      "  saving_api.save_model(\n"
     ]
    }
   ],
   "source": [
    "# =====================================================================================================\n",
    "# PROBLEM C4\n",
    "#\n",
    "# Build and train a classifier for the sarcasm dataset.\n",
    "# The classifier should have a final layer with 1 neuron activated by sigmoid.\n",
    "#\n",
    "# Do not use lambda layers in your model.\n",
    "#\n",
    "# Dataset used in this problem is built by Rishabh Misra (https://rishabhmisra.github.io/publications).\n",
    "#\n",
    "# Desired accuracy and validation_accuracy > 75%\n",
    "# =======================================================================================================\n",
    "\n",
    "import json\n",
    "import tensorflow as tf\n",
    "import numpy as np\n",
    "import urllib\n",
    "from tensorflow import keras\n",
    "from keras.preprocessing.text import Tokenizer\n",
    "from keras.preprocessing.sequence import pad_sequences\n",
    "\n",
    "\n",
    "def solution_C4():\n",
    "    data_url = 'https://github.com/dicodingacademy/assets/raw/main/Simulation/machine_learning/sarcasm.json'\n",
    "    urllib.request.urlretrieve(data_url, 'sarcasm.json')\n",
    "\n",
    "    # DO NOT CHANGE THIS CODE\n",
    "    # Make sure you used all of these parameters or test may fail\n",
    "    vocab_size = 1000\n",
    "    embedding_dim = 16\n",
    "    max_length = 120\n",
    "    trunc_type = 'post'\n",
    "    padding_type = 'post'\n",
    "    oov_tok = \"<OOV>\"\n",
    "    training_size = 20000\n",
    "\n",
    "    temp = open(\"sarcasm.json\")\n",
    "    data = json.load(temp)\n",
    "\n",
    "    sentences = []\n",
    "    labels = []\n",
    "\n",
    "    for i in data:\n",
    "        sentences.append(i[\"headline\"])\n",
    "        labels.append(i[\"is_sarcastic\"])\n",
    "        \n",
    "    # Train Test split\n",
    "    train_sentences = sentences[:training_size]\n",
    "    val_sentences = sentences[training_size:]\n",
    "    train_labels = labels[:training_size]\n",
    "    val_labels = labels[training_size:]\n",
    "    \n",
    "    # Fit your tokenizer with training data\n",
    "    token = Tokenizer(num_words=vocab_size, oov_token = oov_tok)\n",
    "    token.fit_on_texts(train_sentences)\n",
    "\n",
    "    def get_pad_sequences(sentences):\n",
    "        sequences = token.texts_to_sequences(sentences)\n",
    "        return pad_sequences(sequences, maxlen=max_length, padding=padding_type, truncating=trunc_type)\n",
    "\n",
    "    train_pad_sequences=get_pad_sequences(train_sentences)\n",
    "    val_pad_sequences=get_pad_sequences(val_sentences)\n",
    "\n",
    "    class thecallback(tf.keras.callbacks.Callback):\n",
    "        def __init__(self):\n",
    "            super(thecallback, self).__init__()\n",
    "            \n",
    "        def on_epoch_end(self, epoch, logs=None):\n",
    "            loggedtrain, loggedval = logs[\"accuracy\"], logs[\"val_accuracy\"]\n",
    "            if loggedtrain > 0.75 and loggedval > 0.75:\n",
    "                self.model.stop_training = True\n",
    "\n",
    "    def get_model():\n",
    "        model = tf.keras.Sequential([\n",
    "            tf.keras.layers.Embedding(input_dim=vocab_size, output_dim=embedding_dim, input_length=max_length),\n",
    "            keras.layers.GlobalAvgPool1D(),\n",
    "            keras.layers.BatchNormalization(),\n",
    "            keras.layers.Dropout(0.3),\n",
    "            keras.layers.Dense(32, activation=\"relu\"),\n",
    "            keras.layers.Dropout(0.3),\n",
    "            tf.keras.layers.Dense(1, activation='sigmoid')\n",
    "        ])\n",
    "        \n",
    "        model.compile(optimizer = \"adam\", loss=keras.losses.binary_crossentropy, metrics=\"accuracy\")\n",
    "        return model\n",
    "\n",
    "    model=get_model()\n",
    "    model.fit(train_ds, validation_data=val_ds, epochs=100, callbacks=thecallback())\n",
    "    \n",
    "    return model\n",
    "\n",
    "\n",
    "# The code below is to save your model as a .h5 file.\n",
    "# It will be saved automatically in your Submission folder.\n",
    "if __name__ == '__main__':\n",
    "    # DO NOT CHANGE THIS CODE\n",
    "    model = solution_C4()\n",
    "    model.save(\"Model/model_C4.h5\")\n"
   ]
  }
 ],
 "metadata": {
  "kernelspec": {
   "display_name": "conda3.9",
   "language": "python",
   "name": "python3"
  },
  "language_info": {
   "codemirror_mode": {
    "name": "ipython",
    "version": 3
   },
   "file_extension": ".py",
   "mimetype": "text/x-python",
   "name": "python",
   "nbconvert_exporter": "python",
   "pygments_lexer": "ipython3",
   "version": "3.9.18"
  }
 },
 "nbformat": 4,
 "nbformat_minor": 2
}
