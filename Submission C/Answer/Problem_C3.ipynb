{
 "cells": [
  {
   "cell_type": "code",
   "execution_count": 1,
   "metadata": {},
   "outputs": [],
   "source": [
    "# =======================================================================================================\n",
    "# PROBLEM C3\n",
    "#\n",
    "# Build a CNN based classifier for Cats vs Dogs dataset.\n",
    "# Your input layer should accept 150x150 with 3 bytes color as the input shape.\n",
    "# This is unlabeled data, use ImageDataGenerator to automatically label it.\n",
    "# Don't use lambda layers in your model.\n",
    "#\n",
    "# The dataset used in this problem is originally published in https://www.kaggle.com/c/dogs-vs-cats/data\n",
    "#\n",
    "# Desired accuracy and validation_accuracy > 72%\n",
    "# ========================================================================================================"
   ]
  },
  {
   "cell_type": "code",
   "execution_count": 3,
   "metadata": {},
   "outputs": [],
   "source": [
    "import tensorflow as tf\n",
    "import urllib.request\n",
    "import zipfile\n",
    "import tensorflow as tf\n",
    "import os\n",
    "from tensorflow import keras\n",
    "from keras.optimizers import RMSprop\n",
    "from keras.preprocessing.image import ImageDataGenerator"
   ]
  },
  {
   "cell_type": "code",
   "execution_count": 4,
   "metadata": {},
   "outputs": [],
   "source": [
    "# download data\n",
    "data_url = 'https://github.com/dicodingacademy/assets/raw/main/Simulation/machine_learning/cats_and_dogs.zip'\n",
    "urllib.request.urlretrieve(data_url, 'cats_and_dogs.zip')\n",
    "local_file = 'cats_and_dogs.zip'\n",
    "zip_ref = zipfile.ZipFile(local_file, 'r')\n",
    "zip_ref.extractall('data/')\n",
    "zip_ref.close()\n",
    "\n",
    "BASE_DIR = 'data/cats_and_dogs_filtered'\n",
    "train_dir = os.path.join(BASE_DIR, 'train')\n",
    "validation_dir = os.path.join(BASE_DIR, 'validation')"
   ]
  },
  {
   "cell_type": "code",
   "execution_count": 5,
   "metadata": {},
   "outputs": [],
   "source": [
    "#const\n",
    "IMG_HEIGHT = 150\n",
    "IMG_WIDTH = 150\n",
    "BATCH_SIZE = 32"
   ]
  },
  {
   "cell_type": "code",
   "execution_count": 53,
   "metadata": {},
   "outputs": [
    {
     "name": "stdout",
     "output_type": "stream",
     "text": [
      "Found 2000 images belonging to 2 classes.\n",
      "Found 1000 images belonging to 2 classes.\n"
     ]
    }
   ],
   "source": [
    "train_datagen = ImageDataGenerator(rescale=1./255, horizontal_flip=True,\n",
    "                                   brightness_range=[0.1, 0.4],\n",
    "                                   zoom_range=0.2,\n",
    "                                   rotation_range=4,\n",
    "                                   width_shift_range=0.1,\n",
    "                                   height_shift_range=0.1)\n",
    "\n",
    "val_datagen = ImageDataGenerator()\n",
    "\n",
    "train_gen = train_datagen.flow_from_directory(train_dir, target_size=(IMG_HEIGHT, IMG_WIDTH), class_mode=\"binary\", batch_size=BATCH_SIZE)\n",
    "val_gen = val_datagen.flow_from_directory(validation_dir, target_size=(IMG_HEIGHT, IMG_WIDTH), class_mode=\"binary\", batch_size=BATCH_SIZE)"
   ]
  },
  {
   "cell_type": "code",
   "execution_count": 26,
   "metadata": {},
   "outputs": [
    {
     "data": {
      "text/plain": [
       "{'cats': 0, 'dogs': 1}"
      ]
     },
     "execution_count": 26,
     "metadata": {},
     "output_type": "execute_result"
    }
   ],
   "source": [
    "train_gen.class_indices"
   ]
  },
  {
   "cell_type": "code",
   "execution_count": 54,
   "metadata": {},
   "outputs": [],
   "source": [
    "# Only get target i think!\n",
    "class thecallback(tf.keras.callbacks.Callback):\n",
    "    def __init__(self):\n",
    "        super(thecallback, self).__init__()\n",
    "        \n",
    "    ## Desired accuracy and validation_accuracy > 83%, will stop epoch after the desired are reached\n",
    "    def on_epoch_end(self, epoch, logs=None):\n",
    "        logtrain, logval = logs[\"accuracy\"], logs[\"val_accuracy\"]\n",
    "        if logtrain > 0.72 and logval> 0.72:\n",
    "            self.model.stop_training = True"
   ]
  },
  {
   "cell_type": "code",
   "execution_count": 51,
   "metadata": {},
   "outputs": [],
   "source": [
    "def get_model():\n",
    "    #Shit frustating af\n",
    "    model = tf.keras.models.Sequential([\n",
    "        \n",
    "        tf.keras.layers.Conv2D(32, 3, input_shape=(IMG_HEIGHT, IMG_WIDTH, 3), activation=\"relu\"),\n",
    "        tf.keras.layers.BatchNormalization(),\n",
    "        tf.keras.layers.MaxPooling2D((2,2)),\n",
    "        tf.keras.layers.Dropout(0.2),\n",
    "        \n",
    "        tf.keras.layers.Conv2D(64, 3, activation=\"relu\"),\n",
    "        tf.keras.layers.BatchNormalization(),\n",
    "        tf.keras.layers.MaxPooling2D((2,2)),\n",
    "        tf.keras.layers.Dropout(0.2),\n",
    "        \n",
    "        tf.keras.layers.Conv2D(128, 3, activation=\"relu\"),\n",
    "        tf.keras.layers.BatchNormalization(),\n",
    "        tf.keras.layers.MaxPooling2D((2,2)),\n",
    "        tf.keras.layers.Dropout(0.2),\n",
    "\n",
    "        tf.keras.layers.Flatten(),\n",
    "        tf.keras.layers.Dense(256, \"relu\"),\n",
    "        tf.keras.layers.Dropout(0.4),\n",
    "        tf.keras.layers.Dense(1, activation='sigmoid')\n",
    "    ])\n",
    "    \n",
    "    model.compile(optimizer=RMSprop(), loss=keras.losses.BinaryCrossentropy(from_logits=False), metrics=\"accuracy\")\n",
    "    \n",
    "    return model"
   ]
  },
  {
   "cell_type": "code",
   "execution_count": null,
   "metadata": {},
   "outputs": [],
   "source": [
    "model=get_model()\n",
    "model.fit(train_gen, validation_data=val_gen, epochs=100, callbacks=thecallback())"
   ]
  },
  {
   "cell_type": "markdown",
   "metadata": {},
   "source": [
    "# Answer!"
   ]
  },
  {
   "cell_type": "code",
   "execution_count": 57,
   "metadata": {},
   "outputs": [
    {
     "name": "stdout",
     "output_type": "stream",
     "text": [
      "Found 2000 images belonging to 2 classes.\n",
      "Found 1000 images belonging to 2 classes.\n",
      "Epoch 1/100\n"
     ]
    },
    {
     "name": "stderr",
     "output_type": "stream",
     "text": [
      "2024-02-17 12:45:49.743632: E tensorflow/core/grappler/optimizers/meta_optimizer.cc:954] layout failed: INVALID_ARGUMENT: Size of values 0 does not match size of permutation 4 @ fanin shape insequential_19/dropout_65/dropout/SelectV2-2-TransposeNHWCToNCHW-LayoutOptimizer\n"
     ]
    },
    {
     "name": "stdout",
     "output_type": "stream",
     "text": [
      "63/63 [==============================] - 15s 194ms/step - loss: 5.3958 - accuracy: 0.5225 - val_loss: 49.9971 - val_accuracy: 0.4960\n",
      "Epoch 2/100\n",
      "63/63 [==============================] - 13s 202ms/step - loss: 1.0702 - accuracy: 0.5440 - val_loss: 222.5060 - val_accuracy: 0.5000\n",
      "Epoch 3/100\n",
      "63/63 [==============================] - 12s 189ms/step - loss: 0.8237 - accuracy: 0.5565 - val_loss: 30.5799 - val_accuracy: 0.5040\n",
      "Epoch 4/100\n",
      "63/63 [==============================] - 12s 185ms/step - loss: 0.8368 - accuracy: 0.5700 - val_loss: 55.4960 - val_accuracy: 0.5030\n",
      "Epoch 5/100\n",
      "63/63 [==============================] - 13s 213ms/step - loss: 0.7094 - accuracy: 0.5995 - val_loss: 395.4456 - val_accuracy: 0.5000\n",
      "Epoch 6/100\n",
      "63/63 [==============================] - 13s 198ms/step - loss: 0.6995 - accuracy: 0.6260 - val_loss: 26.7094 - val_accuracy: 0.5530\n",
      "Epoch 7/100\n",
      "63/63 [==============================] - 12s 191ms/step - loss: 0.7146 - accuracy: 0.6250 - val_loss: 361.9162 - val_accuracy: 0.5100\n",
      "Epoch 8/100\n",
      "63/63 [==============================] - 12s 198ms/step - loss: 0.6596 - accuracy: 0.6400 - val_loss: 27.5722 - val_accuracy: 0.6870\n",
      "Epoch 9/100\n",
      "63/63 [==============================] - 12s 188ms/step - loss: 0.6390 - accuracy: 0.6640 - val_loss: 131.9807 - val_accuracy: 0.6210\n",
      "Epoch 10/100\n",
      "63/63 [==============================] - 12s 191ms/step - loss: 0.6142 - accuracy: 0.6880 - val_loss: 259.9520 - val_accuracy: 0.5240\n",
      "Epoch 11/100\n",
      "63/63 [==============================] - 12s 187ms/step - loss: 0.6044 - accuracy: 0.6885 - val_loss: 1039.8342 - val_accuracy: 0.5210\n",
      "Epoch 12/100\n",
      "63/63 [==============================] - 12s 189ms/step - loss: 0.5933 - accuracy: 0.6940 - val_loss: 259.0782 - val_accuracy: 0.6470\n",
      "Epoch 13/100\n",
      "63/63 [==============================] - 12s 185ms/step - loss: 0.6046 - accuracy: 0.7030 - val_loss: 907.6345 - val_accuracy: 0.5640\n",
      "Epoch 14/100\n",
      "63/63 [==============================] - 12s 187ms/step - loss: 0.5704 - accuracy: 0.7120 - val_loss: 421.4701 - val_accuracy: 0.6940\n",
      "Epoch 15/100\n",
      "63/63 [==============================] - 13s 199ms/step - loss: 0.5692 - accuracy: 0.7215 - val_loss: 924.3242 - val_accuracy: 0.6170\n",
      "Epoch 16/100\n",
      "63/63 [==============================] - 12s 191ms/step - loss: 0.5563 - accuracy: 0.7300 - val_loss: 333.7475 - val_accuracy: 0.7030\n",
      "Epoch 17/100\n",
      "63/63 [==============================] - 12s 189ms/step - loss: 0.5397 - accuracy: 0.7395 - val_loss: 55.9651 - val_accuracy: 0.7010\n",
      "Epoch 18/100\n",
      "63/63 [==============================] - 12s 197ms/step - loss: 0.5457 - accuracy: 0.7380 - val_loss: 374.1963 - val_accuracy: 0.6060\n",
      "Epoch 19/100\n",
      "63/63 [==============================] - 12s 188ms/step - loss: 0.5459 - accuracy: 0.7425 - val_loss: 694.0728 - val_accuracy: 0.6860\n",
      "Epoch 20/100\n",
      "63/63 [==============================] - 12s 194ms/step - loss: 0.5391 - accuracy: 0.7520 - val_loss: 824.0897 - val_accuracy: 0.6940\n",
      "Epoch 21/100\n",
      "63/63 [==============================] - 12s 192ms/step - loss: 0.5181 - accuracy: 0.7500 - val_loss: 169.6350 - val_accuracy: 0.6820\n",
      "Epoch 22/100\n",
      "63/63 [==============================] - 12s 191ms/step - loss: 0.5143 - accuracy: 0.7655 - val_loss: 281.5069 - val_accuracy: 0.7320\n"
     ]
    },
    {
     "name": "stderr",
     "output_type": "stream",
     "text": [
      "/root/miniconda3/envs/conda3.9/lib/python3.9/site-packages/keras/src/engine/training.py:3000: UserWarning: You are saving your model as an HDF5 file via `model.save()`. This file format is considered legacy. We recommend using instead the native Keras format, e.g. `model.save('my_model.keras')`.\n",
      "  saving_api.save_model(\n"
     ]
    },
    {
     "ename": "",
     "evalue": "",
     "output_type": "error",
     "traceback": [
      "\u001b[1;31mThe Kernel crashed while executing code in the current cell or a previous cell. \n",
      "\u001b[1;31mPlease review the code in the cell(s) to identify a possible cause of the failure. \n",
      "\u001b[1;31mClick <a href='https://aka.ms/vscodeJupyterKernelCrash'>here</a> for more info. \n",
      "\u001b[1;31mView Jupyter <a href='command:jupyter.viewOutput'>log</a> for further details."
     ]
    }
   ],
   "source": [
    "# =======================================================================================================\n",
    "# PROBLEM C3\n",
    "#\n",
    "# Build a CNN based classifier for Cats vs Dogs dataset.\n",
    "# Your input layer should accept 150x150 with 3 bytes color as the input shape.\n",
    "# This is unlabeled data, use ImageDataGenerator to automatically label it.\n",
    "# Don't use lambda layers in your model.\n",
    "#\n",
    "# The dataset used in this problem is originally published in https://www.kaggle.com/c/dogs-vs-cats/data\n",
    "#\n",
    "# Desired accuracy and validation_accuracy > 72%\n",
    "# ========================================================================================================\n",
    "\n",
    "import tensorflow as tf\n",
    "import urllib.request\n",
    "import zipfile\n",
    "import tensorflow as tf\n",
    "import os\n",
    "from tensorflow import keras\n",
    "from keras.optimizers import RMSprop\n",
    "from keras.preprocessing.image import ImageDataGenerator\n",
    "\n",
    "\n",
    "def solution_C3():\n",
    "    data_url = 'https://github.com/dicodingacademy/assets/raw/main/Simulation/machine_learning/cats_and_dogs.zip'\n",
    "    urllib.request.urlretrieve(data_url, 'cats_and_dogs.zip')\n",
    "    local_file = 'cats_and_dogs.zip'\n",
    "    zip_ref = zipfile.ZipFile(local_file, 'r')\n",
    "    zip_ref.extractall('data/')\n",
    "    zip_ref.close()\n",
    "\n",
    "    BASE_DIR = 'data/cats_and_dogs_filtered'\n",
    "    train_dir = os.path.join(BASE_DIR, 'train')\n",
    "    validation_dir = os.path.join(BASE_DIR, 'validation')\n",
    "    \n",
    "    #const\n",
    "    IMG_HEIGHT = 150\n",
    "    IMG_WIDTH = 150\n",
    "    BATCH_SIZE = 32\n",
    "\n",
    "    train_datagen = ImageDataGenerator(rescale=1./255, horizontal_flip=True,\n",
    "                                    brightness_range=[0.1, 0.4],\n",
    "                                    zoom_range=0.2,\n",
    "                                    rotation_range=4,\n",
    "                                    width_shift_range=0.1,\n",
    "                                    height_shift_range=0.1)\n",
    "\n",
    "    val_datagen = ImageDataGenerator()\n",
    "\n",
    "    train_gen = train_datagen.flow_from_directory(train_dir, target_size=(IMG_HEIGHT, IMG_WIDTH), class_mode=\"binary\", batch_size=BATCH_SIZE)\n",
    "    val_gen = val_datagen.flow_from_directory(validation_dir, target_size=(IMG_HEIGHT, IMG_WIDTH), class_mode=\"binary\", batch_size=BATCH_SIZE)\n",
    "\n",
    "    # Only get target i think!\n",
    "    class thecallback(tf.keras.callbacks.Callback):\n",
    "        def __init__(self):\n",
    "            super(thecallback, self).__init__()\n",
    "            \n",
    "        ## Desired accuracy and validation_accuracy > 83%, will stop epoch after the desired are reached\n",
    "        def on_epoch_end(self, epoch, logs=None):\n",
    "            logtrain, logval = logs[\"accuracy\"], logs[\"val_accuracy\"]\n",
    "            if logtrain > 0.72 and logval> 0.72:\n",
    "                self.model.stop_training = True\n",
    "\n",
    "    def get_model():\n",
    "        #Shit frustating af\n",
    "        model = tf.keras.models.Sequential([\n",
    "            \n",
    "            tf.keras.layers.Conv2D(32, 3, input_shape=(IMG_HEIGHT, IMG_WIDTH, 3), activation=\"relu\"),\n",
    "            tf.keras.layers.BatchNormalization(),\n",
    "            tf.keras.layers.MaxPooling2D((2,2)),\n",
    "            tf.keras.layers.Dropout(0.1),\n",
    "            \n",
    "            tf.keras.layers.Conv2D(64, 3, activation=\"relu\"),\n",
    "            tf.keras.layers.BatchNormalization(),\n",
    "            tf.keras.layers.MaxPooling2D((2,2)),\n",
    "            tf.keras.layers.Dropout(0.1),\n",
    "            \n",
    "            tf.keras.layers.Conv2D(128, 3, activation=\"relu\"),\n",
    "            tf.keras.layers.BatchNormalization(),\n",
    "            tf.keras.layers.MaxPooling2D((2,2)),\n",
    "            tf.keras.layers.Dropout(0.1),\n",
    "\n",
    "            tf.keras.layers.Flatten(),\n",
    "            tf.keras.layers.Dense(256, \"relu\"),\n",
    "            tf.keras.layers.Dropout(0.4),\n",
    "            tf.keras.layers.Dense(1, activation='sigmoid')\n",
    "        ])\n",
    "        \n",
    "        model.compile(optimizer=RMSprop(), loss=keras.losses.BinaryCrossentropy(from_logits=False), metrics=\"accuracy\")\n",
    "        \n",
    "        return model\n",
    "\n",
    "    model=get_model()\n",
    "    model.fit(train_gen, validation_data=val_gen, epochs=100, callbacks=thecallback())\n",
    "    \n",
    "    return model\n",
    "\n",
    "\n",
    "# The code below is to save your model as a .h5 file.\n",
    "# It will be saved automatically in your Submission folder.\n",
    "if __name__ == '__main__':\n",
    "    # DO NOT CHANGE THIS CODE\n",
    "    model = solution_C3()\n",
    "    model.save(\"Model/model_C3.h5\")\n"
   ]
  }
 ],
 "metadata": {
  "kernelspec": {
   "display_name": "conda3.9",
   "language": "python",
   "name": "python3"
  },
  "language_info": {
   "codemirror_mode": {
    "name": "ipython",
    "version": 3
   },
   "file_extension": ".py",
   "mimetype": "text/x-python",
   "name": "python",
   "nbconvert_exporter": "python",
   "pygments_lexer": "ipython3",
   "version": "3.9.18"
  }
 },
 "nbformat": 4,
 "nbformat_minor": 2
}
